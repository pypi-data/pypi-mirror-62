{
 "cells": [
  {
   "cell_type": "code",
   "execution_count": 1,
   "metadata": {
    "collapsed": true
   },
   "outputs": [],
   "source": [
    "import sys\n",
    "sys.path.append('..')"
   ]
  },
  {
   "cell_type": "code",
   "execution_count": 2,
   "metadata": {
    "collapsed": true
   },
   "outputs": [],
   "source": [
    "import numpy as np\n",
    "import electrode2currentmap as e2cm\n",
    "import effectivecurrent2brightness as ec2b\n",
    "from scipy import interpolate\n",
    "from utils import TimeSeries\n",
    "import matplotlib.pyplot as plt\n",
    "%matplotlib inline"
   ]
  },
  {
   "cell_type": "code",
   "execution_count": 3,
   "metadata": {
    "collapsed": false
   },
   "outputs": [],
   "source": [
    "r = e2cm.Retina(axon_map='../retina_1700by2800.npz',\n",
    "                sampling=25, ylo=-1700, yhi=1700, xlo=-2800, xhi=2800)"
   ]
  },
  {
   "cell_type": "code",
   "execution_count": 4,
   "metadata": {
    "collapsed": true
   },
   "outputs": [],
   "source": [
    "xlist=[]\n",
    "ylist=[]\n",
    "rlist=[]\n",
    "e_spacing=525\n",
    "\n",
    "for x in np.arange(-2362, 2364, e_spacing):\n",
    "    for y in np.arange(-1312, 1314, e_spacing):\n",
    "        xlist.append(x)\n",
    "        ylist.append(y)\n",
    "        rlist.append(100)\n",
    "\n",
    "e_all = e2cm.ElectrodeArray(rlist,xlist,ylist)\n",
    "\n",
    "e_rf=[]\n",
    "for e in e_all.electrodes:\n",
    "    e_rf.append(e2cm.receptive_field(e, r.gridx, r.gridy,e_spacing))"
   ]
  },
  {
   "cell_type": "code",
   "execution_count": 5,
   "metadata": {
    "collapsed": true
   },
   "outputs": [],
   "source": [
    "# create movie\n",
    "# original screen was [52.74, 63.32]  visual angle\n",
    "# res=[768 ,1024] # resolution of screen\n",
    "#pixperdeg=degscreen/res\n",
    "# no need to simulate the whole movie, just match it to the retina\n",
    "# xhi+xlo/294 (microns per degree)\n",
    "\n",
    "degscreen=[11.6, 19.1] # array visual angle,\n",
    "res=[e_rf[0].shape[0],e_rf[1].shape[1]] # resolution of screen\n",
    "\n",
    "fps=30\n",
    "bar_width=6.7\n",
    "[X,Y]=np.meshgrid(np.linspace(-degscreen[1]/2, degscreen[1]/2, res[1]),\n",
    "np.linspace(-degscreen[0]/2, degscreen[0]/2, res[0]));"
   ]
  },
  {
   "cell_type": "code",
   "execution_count": 6,
   "metadata": {
    "collapsed": true
   },
   "outputs": [],
   "source": [
    "orientations = np.arange(0, 2*np.pi, 2*np.pi/4)"
   ]
  },
  {
   "cell_type": "code",
   "execution_count": 7,
   "metadata": {
    "collapsed": true
   },
   "outputs": [],
   "source": [
    "#for o in orientations: # each orientation\n",
    "o = orientations[0]\n",
    "M=np.cos(o)*X +np.sin(o)*Y\n",
    "#   for sp in range (32:32): # DEBUG each speed, eventually 8:32\n",
    "sp=8"
   ]
  },
  {
   "cell_type": "code",
   "execution_count": 8,
   "metadata": {
    "collapsed": true
   },
   "outputs": [],
   "source": [
    "movie=np.zeros((res[0],res[1], int(np.ceil((70/5)*30))))\n",
    "st=np.min(M)\n",
    "fm_ct=1\n",
    "while (st<np.max(M)):\n",
    "    img=np.zeros(M.shape)\n",
    "    ind=np.where((M>st) & (M<st+bar_width))\n",
    "    img[ind]=1\n",
    "    movie[:,:, fm_ct]=img\n",
    "    fm_ct=fm_ct+1\n",
    "    st=st+(sp/fps)\n",
    "\n",
    "movie=movie[:,:, 0:fm_ct-1]\n",
    "moviedur=movie.shape[2]/fps"
   ]
  },
  {
   "cell_type": "code",
   "execution_count": 9,
   "metadata": {
    "collapsed": true
   },
   "outputs": [],
   "source": [
    "pt=[]\n",
    "for rf in e_rf:\n",
    "    rflum = e2cm.retinalmovie2electrodtimeseries(rf, movie)\n",
    "    #plt.plot(rflum)\n",
    "    ptrain = e2cm.Movie2Pulsetrain(rflum)\n",
    "    #plt.plot(ptrain.data)\n",
    "    pt.append(ptrain)\n",
    "\n",
    "[ecs_list, cs_list]  = r.electrode_ecs(e_all)"
   ]
  },
  {
   "cell_type": "code",
   "execution_count": 10,
   "metadata": {
    "collapsed": true
   },
   "outputs": [],
   "source": [
    "tm1 = ec2b.TemporalModel()\n",
    "#fr=np.zeros([e_rf[0].shape[0],e_rf[0].shape[1], len(pt[0].data)])"
   ]
  },
  {
   "cell_type": "code",
   "execution_count": 11,
   "metadata": {
    "collapsed": true
   },
   "outputs": [],
   "source": [
    "def brightness(r, xx, yy, ecs_list, pt, tm):\n",
    "    ecm = r.ecm(xx, yy, ecs_list, pt)\n",
    "    fr = tm.fast_response(ecm, dojit=True)    \n",
    "    ca = tm.charge_accumulation(fr, ecm)\n",
    "    sn = tm.stationary_nonlinearity(ca)\n",
    "    sr = tm.slow_response(sn)\n",
    "    sr.resample(25)\n",
    "    return sr.data"
   ]
  },
  {
   "cell_type": "code",
   "execution_count": 12,
   "metadata": {
    "collapsed": false
   },
   "outputs": [],
   "source": [
    "sr_0_0 = brightness(r, 0, 0, ecs_list, pt, tm1)"
   ]
  },
  {
   "cell_type": "code",
   "execution_count": 13,
   "metadata": {
    "collapsed": false
   },
   "outputs": [
    {
     "data": {
      "text/plain": [
       "(23776,)"
      ]
     },
     "execution_count": 13,
     "metadata": {},
     "output_type": "execute_result"
    }
   ],
   "source": [
    "sr_0_0.shape"
   ]
  },
  {
   "cell_type": "code",
   "execution_count": 52,
   "metadata": {
    "collapsed": false
   },
   "outputs": [],
   "source": [
    "brightness_movie = np.zeros((4, 4, sr_0_0.shape[0]))"
   ]
  },
  {
   "cell_type": "code",
   "execution_count": 54,
   "metadata": {
    "collapsed": false
   },
   "outputs": [],
   "source": [
    "from itertools import product\n",
    "idx = list(product(*(range(s) for s in brightness_movie.shape[:-1])))"
   ]
  },
  {
   "cell_type": "code",
   "execution_count": 55,
   "metadata": {
    "collapsed": true
   },
   "outputs": [],
   "source": [
    "def calc_pixel(arr, idx, r, ecs_list, pt, tm):\n",
    "    ecm = r.ecm(*idx, ecs_list, pt)\n",
    "    fr = tm.fast_response(ecm, dojit=True)    \n",
    "    ca = tm.charge_accumulation(fr, ecm)\n",
    "    sn = tm.stationary_nonlinearity(ca)\n",
    "    sr = tm.slow_response(sn)\n",
    "    sr.resample(25)\n",
    "    return sr.data"
   ]
  },
  {
   "cell_type": "code",
   "execution_count": 56,
   "metadata": {
    "collapsed": false
   },
   "outputs": [
    {
     "name": "stdout",
     "output_type": "stream",
     "text": [
      "1 loops, best of 3: 5.41 s per loop\n"
     ]
    }
   ],
   "source": [
    "%%timeit\n",
    "ff = np.array([calc_pixel(brightness_movie, i, r, ecs_list, pt, tm1) for i in idx]).reshape(brightness_movie.shape)"
   ]
  },
  {
   "cell_type": "code",
   "execution_count": 57,
   "metadata": {
    "collapsed": true
   },
   "outputs": [],
   "source": [
    "import imp"
   ]
  },
  {
   "cell_type": "code",
   "execution_count": 58,
   "metadata": {
    "collapsed": false
   },
   "outputs": [
    {
     "data": {
      "text/plain": [
       "<module 'utils' from '../utils.py'>"
      ]
     },
     "execution_count": 58,
     "metadata": {},
     "output_type": "execute_result"
    }
   ],
   "source": [
    "import utils\n",
    "imp.reload(utils)"
   ]
  },
  {
   "cell_type": "code",
   "execution_count": 59,
   "metadata": {
    "collapsed": false
   },
   "outputs": [
    {
     "name": "stdout",
     "output_type": "stream",
     "text": [
      "1 loops, best of 3: 3.39 s per loop\n"
     ]
    }
   ],
   "source": [
    "%%timeit\n",
    "answer = utils.parfor(brightness_movie, calc_pixel, r, ecs_list, pt, tm1, n_jobs=10, axis=-1)"
   ]
  },
  {
   "cell_type": "code",
   "execution_count": null,
   "metadata": {
    "collapsed": true
   },
   "outputs": [],
   "source": []
  }
 ],
 "metadata": {
  "kernelspec": {
   "display_name": "Python 3",
   "language": "python",
   "name": "python3"
  },
  "language_info": {
   "codemirror_mode": {
    "name": "ipython",
    "version": 3
   },
   "file_extension": ".py",
   "mimetype": "text/x-python",
   "name": "python",
   "nbconvert_exporter": "python",
   "pygments_lexer": "ipython3",
   "version": "3.5.1"
  }
 },
 "nbformat": 4,
 "nbformat_minor": 0
}
