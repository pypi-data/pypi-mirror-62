{
 "cells": [
  {
   "cell_type": "code",
   "execution_count": 1,
   "metadata": {
    "collapsed": true
   },
   "outputs": [],
   "source": [
    "import sys \n",
    "sys.path.append('..')"
   ]
  },
  {
   "cell_type": "code",
   "execution_count": 2,
   "metadata": {
    "collapsed": false
   },
   "outputs": [],
   "source": [
    "import numpy as np\n",
    "import matplotlib.pyplot as plt\n",
    "%matplotlib inline"
   ]
  },
  {
   "cell_type": "code",
   "execution_count": 3,
   "metadata": {
    "collapsed": true
   },
   "outputs": [],
   "source": [
    "%load_ext cython"
   ]
  },
  {
   "cell_type": "code",
   "execution_count": 4,
   "metadata": {
    "collapsed": false
   },
   "outputs": [],
   "source": [
    "def sparseconv(v, a):\n",
    "    \"\"\"\n",
    "    Returns the discrete, linear convolution of two one-dimensional sequences.\n",
    "    output is of length len(v) + len(a) -1 (same as the default for numpy.convolve)\n",
    "\n",
    "    v is typically the kernel, a is the input to the system\n",
    "\n",
    "    Can run faster than numpy.convolve if:\n",
    "    (1) a is much longer than v\n",
    "    (2) a is sparse (has lots of zeros)\n",
    "    \"\"\"\n",
    "    v_len = v.shape[-1]\n",
    "    a_len = a.shape[-1]\n",
    "    out = np.zeros(a_len +  v_len - 1)\n",
    "\n",
    "    pos = np.where(a != 0)[0]\n",
    "    # add shifted and scaled copies of v only where a is nonzero\n",
    "    for p in pos:\n",
    "        out[p:p + v_len] = out[p:p + v_len] + v * a[p]\n",
    "\n",
    "    return out"
   ]
  },
  {
   "cell_type": "code",
   "execution_count": 5,
   "metadata": {
    "collapsed": false
   },
   "outputs": [],
   "source": [
    "%%cython\n",
    "import cython\n",
    "import numpy as np\n",
    "cimport numpy as np\n",
    "\n",
    "@cython.boundscheck(False)\n",
    "@cython.wraparound(False)\n",
    "@cython.profile(False)\n",
    "def sparseconvx(np.ndarray[double, ndim=1] v, np.ndarray[double, ndim=1] a):\n",
    "    \"\"\"\n",
    "    Returns the discrete, linear convolution of two one-dimensional sequences.\n",
    "    output is of length len(v) + len(a) -1 (same as the default for numpy.convolve)\n",
    "\n",
    "    v is typically the kernel, a is the input to the system\n",
    "\n",
    "    Can run faster than numpy.convolve if:\n",
    "    (1) a is much longer than v\n",
    "    (2) a is sparse (has lots of zeros)\n",
    "    \"\"\"\n",
    "    cdef int v_len = v.shape[0]\n",
    "    cdef int a_len = a.shape[0]\n",
    "    cdef out = np.zeros(a_len +  v_len - 1)\n",
    "\n",
    "    pos = np.where(a != 0)[0]\n",
    "    # add shifted and scaled copies of v only where a is nonzero\n",
    "    for p in pos:\n",
    "        out[p:p + v_len] = out[p:p + v_len] + v * a[p]\n",
    "\n",
    "    return out"
   ]
  },
  {
   "cell_type": "code",
   "execution_count": 6,
   "metadata": {
    "collapsed": false
   },
   "outputs": [],
   "source": [
    "from numba import jit\n",
    "sparseconvj = jit(sparseconv)"
   ]
  },
  {
   "cell_type": "code",
   "execution_count": 7,
   "metadata": {
    "collapsed": false
   },
   "outputs": [],
   "source": [
    "import electrode2currentmap as e2cm\n",
    "import effectivecurrent2brightness as ec2b"
   ]
  },
  {
   "cell_type": "code",
   "execution_count": 8,
   "metadata": {
    "collapsed": true
   },
   "outputs": [],
   "source": [
    "stimulus = e2cm.Stimulus()"
   ]
  },
  {
   "cell_type": "code",
   "execution_count": 9,
   "metadata": {
    "collapsed": true
   },
   "outputs": [],
   "source": [
    "tau1 = .42/1000"
   ]
  },
  {
   "cell_type": "code",
   "execution_count": 10,
   "metadata": {
    "collapsed": false
   },
   "outputs": [],
   "source": [
    "t = np.arange(0, 8 * tau1, stimulus.tsample)"
   ]
  },
  {
   "cell_type": "code",
   "execution_count": 11,
   "metadata": {
    "collapsed": true
   },
   "outputs": [],
   "source": [
    "g = ec2b.gamma(1, tau1, t)"
   ]
  },
  {
   "cell_type": "code",
   "execution_count": 12,
   "metadata": {
    "collapsed": false
   },
   "outputs": [
    {
     "name": "stdout",
     "output_type": "stream",
     "text": [
      "1000 loops, best of 3: 1.14 ms per loop\n"
     ]
    }
   ],
   "source": [
    "%%timeit \n",
    "sparseconv(g, stimulus.data)"
   ]
  },
  {
   "cell_type": "code",
   "execution_count": 13,
   "metadata": {
    "collapsed": false
   },
   "outputs": [
    {
     "name": "stdout",
     "output_type": "stream",
     "text": [
      "1000 loops, best of 3: 1.22 ms per loop\n"
     ]
    }
   ],
   "source": [
    "%%timeit \n",
    "sparseconvx(g, stimulus.data)"
   ]
  },
  {
   "cell_type": "code",
   "execution_count": 14,
   "metadata": {
    "collapsed": false
   },
   "outputs": [
    {
     "name": "stdout",
     "output_type": "stream",
     "text": [
      "100 loops, best of 3: 10.2 ms per loop\n"
     ]
    }
   ],
   "source": [
    "%%timeit\n",
    "np.convolve(g, stimulus.data)"
   ]
  },
  {
   "cell_type": "code",
   "execution_count": 15,
   "metadata": {
    "collapsed": true
   },
   "outputs": [],
   "source": [
    "from scipy.signal import fftconvolve"
   ]
  },
  {
   "cell_type": "code",
   "execution_count": 16,
   "metadata": {
    "collapsed": false
   },
   "outputs": [
    {
     "name": "stdout",
     "output_type": "stream",
     "text": [
      "100 loops, best of 3: 7.25 ms per loop\n"
     ]
    }
   ],
   "source": [
    "%%timeit\n",
    "fftconvolve(g, stimulus.data)"
   ]
  },
  {
   "cell_type": "code",
   "execution_count": 17,
   "metadata": {
    "collapsed": false
   },
   "outputs": [
    {
     "name": "stdout",
     "output_type": "stream",
     "text": [
      "The slowest run took 1561.47 times longer than the fastest. This could mean that an intermediate result is being cached \n",
      "1 loops, best of 3: 229 µs per loop\n"
     ]
    }
   ],
   "source": [
    "%%timeit\n",
    "sparseconvj(g, stimulus.data)"
   ]
  },
  {
   "cell_type": "code",
   "execution_count": null,
   "metadata": {
    "collapsed": true
   },
   "outputs": [],
   "source": []
  }
 ],
 "metadata": {
  "kernelspec": {
   "display_name": "Python 3",
   "language": "python",
   "name": "python3"
  },
  "language_info": {
   "codemirror_mode": {
    "name": "ipython",
    "version": 3
   },
   "file_extension": ".py",
   "mimetype": "text/x-python",
   "name": "python",
   "nbconvert_exporter": "python",
   "pygments_lexer": "ipython3",
   "version": "3.5.1"
  }
 },
 "nbformat": 4,
 "nbformat_minor": 0
}
