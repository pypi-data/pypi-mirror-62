{
 "cells": [
  {
   "cell_type": "code",
   "execution_count": 1,
   "metadata": {
    "collapsed": true
   },
   "outputs": [],
   "source": [
    "import sys\n",
    "sys.path.append('..')"
   ]
  },
  {
   "cell_type": "code",
   "execution_count": 2,
   "metadata": {
    "collapsed": true
   },
   "outputs": [],
   "source": [
    "import numpy as np\n",
    "import electrode2currentmap as e2cm\n",
    "import effectivecurrent2brightness as ec2b\n",
    "from utils import TimeSeries\n",
    "import matplotlib.pyplot as plt\n",
    "%matplotlib inline"
   ]
  },
  {
   "cell_type": "code",
   "execution_count": 3,
   "metadata": {
    "collapsed": false
   },
   "outputs": [],
   "source": [
    "r = e2cm.Retina(axon_map='../retina_2000_by_2000.npz', \n",
    "                sampling=25, xlo=-1000, xhi=1000, ylo=-1000, yhi=1000)"
   ]
  },
  {
   "cell_type": "code",
   "execution_count": 4,
   "metadata": {
    "collapsed": true
   },
   "outputs": [],
   "source": [
    "# Create electrode array \n",
    "# covers 10.32 dva (6 electrodes) by 17.2 (10 electrodes) dva. \n",
    "# 293 μm equals 1 degree\n",
    "# electrode spacing is done in microns\n",
    "\n",
    "xlist=[]\n",
    "ylist=[]\n",
    "rlist=[]\n",
    "e_spacing=525\n",
    "#DEBUG\n",
    "#for x in np.arange(-1312, 1313, e_spacing):\n",
    "#    for y in np.arange(-2362, 2364, e_spacing):    \n",
    "for x in np.arange(-525, 526, e_spacing):\n",
    "    for y in np.arange(-525, 526, e_spacing):  \n",
    "        xlist.append(x)\n",
    "        ylist.append(y)\n",
    "        rlist.append(100)        \n",
    "\n",
    "e_all = e2cm.ElectrodeArray(rlist,xlist,ylist)\n",
    "\n",
    "e_rf=[]\n",
    "e_spacing=550\n",
    "for e in e_all.electrodes:\n",
    "    e_rf.append(e2cm.receptive_field(e, r.gridx, r.gridy,e_spacing))"
   ]
  },
  {
   "cell_type": "code",
   "execution_count": null,
   "metadata": {
    "collapsed": true
   },
   "outputs": [],
   "source": [
    "# create movie\n",
    "#degscreen=[52.74, 63.32] # screen visual angle\n",
    "#res=[768 ,1024] # resolution of screen\n",
    "#pixperdeg=degscreen/res\n",
    "degscreen=[10.32, 17.2] # array visual angle, no need to simulate the whole movie\n",
    "res=[e_rf[0].shape[0],e_rf[1].shape[1]] # resolution of screen\n",
    "\n",
    "fps=30\n",
    "\n",
    "[X,Y]=np.meshgrid(np.linspace(-degscreen[1]/2, degscreen[1]/2, res[1]), \n",
    "np.linspace(-degscreen[0]/2, degscreen[0]/2, res[0]));"
   ]
  },
  {
   "cell_type": "code",
   "execution_count": null,
   "metadata": {
    "collapsed": false
   },
   "outputs": [],
   "source": [
    "for o in np.arange(np.pi/180, 360*np.pi/180): # each orientation\n",
    "    M=np.cos(o)*X +np.sin(o)*Y\n",
    "\n",
    " #   for sp in range (32:32): # DEBUG each speed, eventually 8:32  \n",
    "    sp=8\n",
    "    movie=np.zeros((res[0],res[1], int(np.ceil((70/5)*30))))\n",
    "    st=np.min(M)\n",
    "    fm_ct=1\n",
    "    while (st<np.max(M)):\n",
    "        img=np.zeros(M.shape)\n",
    "        ind=np.where((M>st) & (M<st+6.7))\n",
    "        img[ind]=1    \n",
    "        movie[:,:, fm_ct]=img\n",
    "        fm_ct=fm_ct+1\n",
    "        st=st+(sp/fps)   \n",
    "         \n",
    "    movie=movie[:,:, 0:fm_ct-1]   \n",
    "    \n",
    "    pt=[]\n",
    "    for rf in e_rf:\n",
    "        rflum= e2cm.retinalmovie2electrodtimeseries(rf, movie) \n",
    "        pt.append(e2cm.Movie2Pulsetrain(rflum)) \n",
    "    \n",
    "          \n",
    "    ecs_list = r.electrode_ecs(e_all)        \n",
    "    tm1 = ec2b.TemporalModel()\n",
    "    #fr=np.zeros([e_rf[0].shape[0],e_rf[0].shape[1], len(pt[0].data)])\n",
    "    brightnessmovie = np.zeros(r.gridx.shape + (22176,))\n",
    "    #DEBUG for xx in range(ecm.shape[0]):\n",
    "    #    for yy in range(ecm.shape[1]):\n",
    "    for xx in range(r.gridx.shape[0]):\n",
    "        for yy in range(r.gridx.shape[1]):\n",
    "            ecm = r.ecm(xx, yy, ecs_list, pt)\n",
    "            fr = tm1.fast_response(ecm, dojit=True)    \n",
    "            ca = tm1.charge_accumulation(fr, ecm)\n",
    "            sn = tm1.stationary_nonlinearity(ca)\n",
    "            sr = tm1.slow_response(sn)\n",
    "            sr.resample(25)\n",
    "            brightnessmovie[xx, yy, :] = sr.data\n",
    "    boom    \n",
    "    "
   ]
  },
  {
   "cell_type": "code",
   "execution_count": null,
   "metadata": {
    "collapsed": false
   },
   "outputs": [],
   "source": [
    "np.save('/home/ubuntu/movie20160218.npy', brightnessmovie)"
   ]
  },
  {
   "cell_type": "code",
   "execution_count": null,
   "metadata": {
    "collapsed": false
   },
   "outputs": [],
   "source": [
    "brightnessmovie.shape"
   ]
  },
  {
   "cell_type": "code",
   "execution_count": null,
   "metadata": {
    "collapsed": false
   },
   "outputs": [],
   "source": [
    "plt.plot(brightnessmovie[24, 24])"
   ]
  },
  {
   "cell_type": "code",
   "execution_count": null,
   "metadata": {
    "collapsed": false
   },
   "outputs": [],
   "source": [
    "plt.matshow(brightnessmovie[:, :, 2000], cmap='viridis')"
   ]
  },
  {
   "cell_type": "code",
   "execution_count": null,
   "metadata": {
    "collapsed": false
   },
   "outputs": [],
   "source": [
    "plt.matshow(brightnessmovie[:, :, 4000], cmap='viridis')"
   ]
  },
  {
   "cell_type": "code",
   "execution_count": null,
   "metadata": {
    "collapsed": true
   },
   "outputs": [],
   "source": []
  }
 ],
 "metadata": {
  "kernelspec": {
   "display_name": "Python 3",
   "language": "python",
   "name": "python3"
  },
  "language_info": {
   "codemirror_mode": {
    "name": "ipython",
    "version": 3
   },
   "file_extension": ".py",
   "mimetype": "text/x-python",
   "name": "python",
   "nbconvert_exporter": "python",
   "pygments_lexer": "ipython3",
   "version": "3.5.1"
  }
 },
 "nbformat": 4,
 "nbformat_minor": 0
}
