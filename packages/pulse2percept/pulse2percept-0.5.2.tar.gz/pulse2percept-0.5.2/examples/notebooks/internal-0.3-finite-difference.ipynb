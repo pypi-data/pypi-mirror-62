{
 "cells": [
  {
   "cell_type": "code",
   "execution_count": 1,
   "metadata": {
    "collapsed": true
   },
   "outputs": [],
   "source": [
    "%load_ext Cython"
   ]
  },
  {
   "cell_type": "code",
   "execution_count": 2,
   "metadata": {},
   "outputs": [
    {
     "name": "stderr",
     "output_type": "stream",
     "text": [
      "/home/mbeyeler/anaconda3/lib/python3.5/site-packages/skvideo/__init__.py:356: UserWarning: avconv/avprobe not found in path: \n",
      "  warnings.warn(\"avconv/avprobe not found in path: \" + str(path), UserWarning)\n",
      "2018-03-27 16:03:35,382 [pulse2percept] [INFO] Welcome to pulse2percept\n"
     ]
    }
   ],
   "source": [
    "import numpy as np\n",
    "import pulse2percept as p2p\n",
    "%matplotlib inline\n",
    "import matplotlib.pyplot as plt"
   ]
  },
  {
   "cell_type": "code",
   "execution_count": 3,
   "metadata": {
    "collapsed": true
   },
   "outputs": [],
   "source": [
    "class LegacyNanduri2012(p2p.retina.Nanduri2012):\n",
    "    \"\"\"Preserve old implementation to make sure Cython model runs correctly\"\"\"\n",
    "    def __init__(self, **kwargs):\n",
    "        # Set default values of keyword arguments\n",
    "        self.tau1 = 0.42 / 1000\n",
    "        self.tau2 = 45.25 / 1000\n",
    "        self.tau3 = 26.25 / 1000\n",
    "        self.eps = 8.73\n",
    "        self.asymptote = 14.0\n",
    "        self.slope = 3.0\n",
    "        self.shift = 16.0\n",
    "\n",
    "        # Overwrite any given keyword arguments, print warning message (True)\n",
    "        # if attempting to set an unrecognized keyword\n",
    "        self.set_kwargs(True, **kwargs)\n",
    "\n",
    "        _, self.gamma1 = p2p.utils.gamma(1, self.tau1, self.tsample)\n",
    "        _, self.gamma2 = p2p.utils.gamma(1, self.tau2, self.tsample)\n",
    "        _, self.gamma3 = p2p.utils.gamma(3, self.tau3, self.tsample)\n",
    "        \n",
    "    def model_cascade(self, in_arr, pt_list, layers, use_jit):\n",
    "        \"\"\"Nanduri model cascade\n",
    "\n",
    "        Parameters\n",
    "        ----------\n",
    "        in_arr: array - like\n",
    "            A 2D array specifying the effective current values\n",
    "            at a particular spatial location(pixel); one value\n",
    "            per retinal layer and electrode.\n",
    "            Dimensions: <  # layers x #electrodes>\n",
    "        pt_list: list\n",
    "            List of pulse train 'data' containers.\n",
    "            Dimensions: <  # electrodes x #time points>\n",
    "        layers: list\n",
    "            List of retinal layers to simulate.\n",
    "            Choose from:\n",
    "            - 'OFL': optic fiber layer\n",
    "            - 'GCL': ganglion cell layer\n",
    "        use_jit: bool\n",
    "            If True, applies just - in-time(JIT) compilation to\n",
    "            expensive computations for additional speed - up\n",
    "            (requires Numba).\n",
    "        \"\"\"\n",
    "        if 'INL' in layers:\n",
    "            raise ValueError(\"The Nanduri2012 model does not support an inner \"\n",
    "                             \"nuclear layer.\")\n",
    "\n",
    "        # Although the paper says to use cathodic-first, the code only\n",
    "        # reproduces if we use what we now call anodic-first. So flip the sign\n",
    "        # on the stimulus here:\n",
    "        b1 = -self.calc_layer_current(in_arr, pt_list)\n",
    "\n",
    "        # Fast response\n",
    "        b2 = self.tsample * p2p.utils.conv(b1, self.gamma1, mode='full',\n",
    "                                           method='sparse',\n",
    "                                           use_jit=use_jit)[:b1.size]\n",
    "\n",
    "        # Charge accumulation\n",
    "        ca = self.tsample * np.cumsum(np.maximum(0, b1))\n",
    "        ca = self.tsample * p2p.utils.conv(ca, self.gamma2, mode='full',\n",
    "                                           method='fft')[:b1.size]\n",
    "        b3 = np.maximum(0, b2 - self.eps * ca)\n",
    "\n",
    "        # Stationary nonlinearity\n",
    "        b3max = b3.max()\n",
    "        sigmoid = ss.expit((b3max - self.shift) / self.slope)\n",
    "        b4 = b3 / b3max * sigmoid * self.asymptote\n",
    "\n",
    "        # Slow response\n",
    "        b5 = self.tsample * p2p.utils.conv(b4, self.gamma3, mode='full',\n",
    "                                           method='fft')[:b1.size]\n",
    "\n",
    "        return p2p.utils.TimeSeries(self.tsample, b5)"
   ]
  },
  {
   "cell_type": "code",
   "execution_count": 4,
   "metadata": {
    "collapsed": true
   },
   "outputs": [],
   "source": [
    "import scipy.special as ss\n",
    "\n",
    "def finite_diff(stim, model, maxR3=99.8873446571, skip_i=0):\n",
    "    tmp_chargeacc = 0\n",
    "    tmp_ca = 0\n",
    "    tmp_cl = 0\n",
    "    tmp_R1 = 0\n",
    "    tmp_R2 = 0\n",
    "    tmp_R3norm = 0\n",
    "    dt = stim.tsample\n",
    "    \n",
    "    tmp_R3 = 0\n",
    "    sc_fac = 0\n",
    "    \n",
    "    tmp_R4a = [0, 0, 0, 0]\n",
    "    out_t = np.arange(0, stim.duration, stim.tsample)\n",
    "    out_R4 = np.zeros_like(out_t)\n",
    "    \n",
    "    for i in range(len(out_t)):\n",
    "        tmp_R1 += dt * (-stim.data[i] - tmp_R1) / model.tau1\n",
    "\n",
    "        # leaky integrated charge accumulation\n",
    "        tmp_chargeacc += dt * np.maximum(stim.data[i], 0)\n",
    "        tmp_ca += dt * (tmp_chargeacc - tmp_ca) / model.tau2\n",
    "        tmp_R3 = np.maximum(tmp_R1 - model.eps * tmp_ca, 0)\n",
    "\n",
    "        # nonlinearity\n",
    "        sc_fac = model.asymptote * ss.expit((maxR3 - model.shift) / model.slope)\n",
    "        \n",
    "        # R4: R3 passed through a cascade of 3 leaky integrators\n",
    "        tmp_R4a[0] = tmp_R3 / maxR3 * sc_fac\n",
    "        for j in range(3):\n",
    "            dR4a = dt * (tmp_R4a[j] - tmp_R4a[j + 1]) / model.tau3\n",
    "            tmp_R4a[j + 1] += dR4a\n",
    "\n",
    "        out_R4[i] = tmp_R4a[-1]\n",
    "        \n",
    "    return out_t, out_R4"
   ]
  },
  {
   "cell_type": "code",
   "execution_count": 5,
   "metadata": {
    "collapsed": true
   },
   "outputs": [],
   "source": [
    "%%cython\n",
    "\n",
    "import numpy as np\n",
    "cimport numpy as np\n",
    "import scipy.special as ss\n",
    "import cython\n",
    "\n",
    "cdef inline float float_max(float a, float b): return a if a >= b else b\n",
    "DTYPE = np.float\n",
    "ctypedef np.float_t DTYPE_t\n",
    "\n",
    "def cythoncascade(stim, model, maxR3=99.8873446571, skip_i=0):\n",
    "    cdef float tmp_chargeacc = 0\n",
    "    cdef float tmp_ca = 0\n",
    "    cdef float tmp_cl = 0\n",
    "    cdef float tmp_R1 = 0\n",
    "    cdef float tmp_R2 = 0\n",
    "    cdef float tmp_R3norm = 0\n",
    "    cdef float dt = stim.tsample\n",
    "    cdef np.ndarray[DTYPE_t] stimdata = stim.data\n",
    "    \n",
    "    cdef float tmp_R3 = 0\n",
    "    cdef float sc_fac = 0\n",
    "    \n",
    "    tmp_R4a = [0, 0, 0, 0]\n",
    "    cdef np.ndarray[DTYPE_t] out_t = np.arange(0, stim.duration, stim.tsample, dtype=DTYPE)\n",
    "    cdef np.ndarray[DTYPE_t] out_R4 = np.zeros_like(out_t, dtype=DTYPE)\n",
    "    \n",
    "    cdef float tau1 = model.tau1\n",
    "    cdef float tau2 = model.tau2\n",
    "    cdef float tau3 = model.tau3\n",
    "    cdef float asymptote = model.asymptote\n",
    "    cdef float shift = model.shift\n",
    "    cdef float slope = model.slope\n",
    "\n",
    "    for i in range(len(out_t)):\n",
    "        tmp_R1 += dt * (-stimdata[i] - tmp_R1) / tau1\n",
    "\n",
    "        # leaky integrated charge accumulation\n",
    "        tmp_chargeacc += dt * float_max(stimdata[i], 0)\n",
    "        tmp_ca += dt * (tmp_chargeacc - tmp_ca) / tau2\n",
    "        tmp_R3 = float_max(tmp_R1 - model.eps * tmp_ca, 0)\n",
    "\n",
    "        # nonlinearity\n",
    "        sc_fac = asymptote * ss.expit((maxR3 - shift) / slope)\n",
    "        \n",
    "        # R4: R3 passed through a cascade of 3 leaky integrators\n",
    "        tmp_R4a[0] = tmp_R3b = tmp_R3 / maxR3 * sc_fac\n",
    "        for j in range(3):\n",
    "            dR4a = dt * (tmp_R4a[j] - tmp_R4a[j + 1]) / tau3\n",
    "            tmp_R4a[j + 1] += dR4a\n",
    "\n",
    "        out_R4[i] = tmp_R4a[-1]\n",
    "        \n",
    "    return out_t, out_R4"
   ]
  },
  {
   "cell_type": "markdown",
   "metadata": {},
   "source": [
    "### Model output"
   ]
  },
  {
   "cell_type": "code",
   "execution_count": 6,
   "metadata": {},
   "outputs": [],
   "source": [
    "tsample = 0.005 / 1000\n",
    "stim = p2p.stimuli.PulseTrain(tsample, freq=20, amp=150, pulse_dur=0.45 / 1000, dur=0.5)\n",
    "ecm = np.array([1, 1]).reshape((2, 1))\n",
    "layers = ['GCL']\n",
    "use_jit = True\n",
    "\n",
    "nanduri = p2p.retina.Nanduri2012(tsample=tsample)\n",
    "nanduri_out = nanduri.model_cascade(ecm, [stim.data], layers, use_jit)\n",
    "nanduri_t = tsample * np.arange(len(nanduri_out.data))\n",
    "\n",
    "legacy = LegacyNanduri2012(tsample=tsample)\n",
    "legacy_out = legacy.model_cascade(ecm, [stim.data], layers, use_jit)\n",
    "legacy_t = tsample * np.arange(len(legacy_out.data))"
   ]
  },
  {
   "cell_type": "code",
   "execution_count": 7,
   "metadata": {
    "collapsed": true
   },
   "outputs": [],
   "source": [
    "finite_diff_t, finite_diff_out = finite_diff(stim, nanduri)"
   ]
  },
  {
   "cell_type": "code",
   "execution_count": 8,
   "metadata": {
    "collapsed": true
   },
   "outputs": [],
   "source": [
    "cython_t, cython_out = cythoncascade(stim, nanduri)"
   ]
  },
  {
   "cell_type": "code",
   "execution_count": 9,
   "metadata": {},
   "outputs": [
    {
     "data": {
      "text/plain": [
       "<matplotlib.legend.Legend at 0x7f3e6f7aa630>"
      ]
     },
     "execution_count": 9,
     "metadata": {},
     "output_type": "execute_result"
    },
    {
     "data": {
      "image/png": "[encoded data removed]",
      "text/plain": [
       "<matplotlib.figure.Figure at 0x7f3e6f765d68>"
      ]
     },
     "metadata": {},
     "output_type": "display_data"
    }
   ],
   "source": [
    "plt.figure(figsize=(10, 5))\n",
    "plt.plot(legacy_t, legacy_out.data, linewidth=10, label='Nanduri 2012 (Legacy)')\n",
    "plt.plot(nanduri_t, nanduri_out.data, linewidth=5, label='Nanduri 2012 (Cython)')\n",
    "plt.plot(cython_t, cython_out, linewidth=2, label='Finite difference (Cython)')\n",
    "plt.legend(loc='lower right')"
   ]
  },
  {
   "cell_type": "markdown",
   "metadata": {},
   "source": [
    "### Accuracy"
   ]
  },
  {
   "cell_type": "code",
   "execution_count": 10,
   "metadata": {},
   "outputs": [
    {
     "data": {
      "text/plain": [
       "True"
      ]
     },
     "execution_count": 10,
     "metadata": {},
     "output_type": "execute_result"
    }
   ],
   "source": [
    "np.allclose(legacy_out.data, nanduri_out.data, atol=5e-3)"
   ]
  },
  {
   "cell_type": "code",
   "execution_count": 11,
   "metadata": {},
   "outputs": [
    {
     "data": {
      "text/plain": [
       "True"
      ]
     },
     "execution_count": 11,
     "metadata": {},
     "output_type": "execute_result"
    }
   ],
   "source": [
    "np.allclose(cython_out, nanduri_out.data, atol=5e-3)"
   ]
  },
  {
   "cell_type": "markdown",
   "metadata": {},
   "source": [
    "### Speed"
   ]
  },
  {
   "cell_type": "markdown",
   "metadata": {},
   "source": [
    "Convolutions (pure Python):"
   ]
  },
  {
   "cell_type": "code",
   "execution_count": 13,
   "metadata": {},
   "outputs": [
    {
     "name": "stdout",
     "output_type": "stream",
     "text": [
      "584 ms ± 17.4 ms per loop (mean ± std. dev. of 7 runs, 1 loop each)\n"
     ]
    }
   ],
   "source": [
    "%timeit out = legacy.model_cascade(ecm, [stim.data], layers, use_jit)"
   ]
  },
  {
   "cell_type": "markdown",
   "metadata": {},
   "source": [
    "Finite difference model (pure Python):"
   ]
  },
  {
   "cell_type": "code",
   "execution_count": 14,
   "metadata": {},
   "outputs": [
    {
     "name": "stdout",
     "output_type": "stream",
     "text": [
      "698 ms ± 5.94 ms per loop (mean ± std. dev. of 7 runs, 1 loop each)\n"
     ]
    }
   ],
   "source": [
    "%timeit out = finite_diff(stim, nanduri)"
   ]
  },
  {
   "cell_type": "markdown",
   "metadata": {},
   "source": [
    "Finite difference model (naive Cython):"
   ]
  },
  {
   "cell_type": "code",
   "execution_count": 15,
   "metadata": {},
   "outputs": [
    {
     "name": "stdout",
     "output_type": "stream",
     "text": [
      "163 ms ± 844 µs per loop (mean ± std. dev. of 7 runs, 10 loops each)\n"
     ]
    }
   ],
   "source": [
    "%timeit out_R4 = cythoncascade(stim, nanduri)"
   ]
  },
  {
   "cell_type": "markdown",
   "metadata": {},
   "source": [
    "Finite difference model (pulse2percept):"
   ]
  },
  {
   "cell_type": "code",
   "execution_count": 16,
   "metadata": {},
   "outputs": [
    {
     "name": "stdout",
     "output_type": "stream",
     "text": [
      "2.9 ms ± 15 µs per loop (mean ± std. dev. of 7 runs, 100 loops each)\n"
     ]
    }
   ],
   "source": [
    "%timeit out = nanduri.model_cascade(ecm, [stim.data], layers, use_jit)"
   ]
  },
  {
   "cell_type": "code",
   "execution_count": null,
   "metadata": {
    "collapsed": true
   },
   "outputs": [],
   "source": []
  }
 ],
 "metadata": {
  "kernelspec": {
   "display_name": "Python [default]",
   "language": "python",
   "name": "python3"
  },
  "language_info": {
   "codemirror_mode": {
    "name": "ipython",
    "version": 3
   },
   "file_extension": ".py",
   "mimetype": "text/x-python",
   "name": "python",
   "nbconvert_exporter": "python",
   "pygments_lexer": "ipython3",
   "version": "3.5.3"
  }
 },
 "nbformat": 4,
 "nbformat_minor": 2
}
