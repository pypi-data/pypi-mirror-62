{
 "cells": [
  {
   "cell_type": "code",
   "execution_count": 1,
   "metadata": {},
   "outputs": [],
   "source": [
    "from sage_combinat_widgets import grid_view_widget as gvw\n",
    "from ipywidgets import *"
   ]
  },
  {
   "cell_type": "code",
   "execution_count": 2,
   "metadata": {},
   "outputs": [
    {
     "data": {
      "text/plain": [
       "['AddableButtonCell',\n",
       " 'AddableTextCell',\n",
       " 'BaseTextCell',\n",
       " 'BlankButton',\n",
       " 'BlankCell',\n",
       " 'Button',\n",
       " 'ButtonCell',\n",
       " 'ButtonSingleton',\n",
       " 'Combobox',\n",
       " 'ComboboxSingleton',\n",
       " 'DisabledButtonCell',\n",
       " 'DisabledTextCell',\n",
       " 'Dropdown',\n",
       " 'DropdownSingleton',\n",
       " 'GenericGraph',\n",
       " 'GridViewEditor',\n",
       " 'GridViewWidget',\n",
       " 'HBox',\n",
       " 'HTML',\n",
       " 'HTMLMath',\n",
       " 'HTMLMathSingleton',\n",
       " 'HTMLSingleton',\n",
       " 'HasTraits',\n",
       " 'Int',\n",
       " 'JS_VERSION',\n",
       " 'Layout',\n",
       " 'PartitionGridViewWidget',\n",
       " 'Singleton',\n",
       " 'StyledButtonCell',\n",
       " 'StyledPushButton',\n",
       " 'StyledTextCell',\n",
       " 'Text',\n",
       " 'TextCell',\n",
       " 'TextSingleton',\n",
       " 'Textarea',\n",
       " 'TextareaSingleton',\n",
       " 'ToggleButton',\n",
       " 'ToggleButtonSingleton',\n",
       " 'Unicode',\n",
       " 'VBox',\n",
       " 'ValueWidget',\n",
       " 'WiderTextCell',\n",
       " '__builtins__',\n",
       " '__cached__',\n",
       " '__doc__',\n",
       " '__file__',\n",
       " '__loader__',\n",
       " '__name__',\n",
       " '__package__',\n",
       " '__spec__',\n",
       " 'apply_css',\n",
       " 'buttoncell_layout',\n",
       " 'buttoncell_smaller_layout',\n",
       " 'cdlink',\n",
       " 'get_model_id',\n",
       " 'register',\n",
       " 'singleton_widgets',\n",
       " 'styled_button_cell',\n",
       " 'styled_push_button',\n",
       " 'styled_text_cell',\n",
       " 'text_type',\n",
       " 'textcell_layout',\n",
       " 'textcell_wider_layout']"
      ]
     },
     "execution_count": 2,
     "metadata": {},
     "output_type": "execute_result"
    }
   ],
   "source": [
    "dir(gvw)"
   ]
  },
  {
   "cell_type": "code",
   "execution_count": 3,
   "metadata": {},
   "outputs": [
    {
     "data": {
      "application/vnd.jupyter.widget-view+json": {
       "model_id": "e7d0ddad5cab4e15991fb369c733b793",
       "version_major": 2,
       "version_minor": 0
      },
      "text/plain": [
       "VBox(children=(AddableButtonCell(value=False, description='+', layout=Layout(height='2em', margin='0', padding…"
      ]
     },
     "metadata": {},
     "output_type": "display_data"
    }
   ],
   "source": [
    "VBox((gvw.AddableButtonCell((0,0)), HTML(\"<p></p>\"), gvw.AddableTextCell((0,0))))"
   ]
  },
  {
   "cell_type": "code",
   "execution_count": 4,
   "metadata": {},
   "outputs": [
    {
     "data": {
      "application/vnd.jupyter.widget-view+json": {
       "model_id": "6e4a61ab68be4e11b9cb0dc0ef76da70",
       "version_major": 2,
       "version_minor": 0
      },
      "text/plain": [
       "HBox(children=(Button(style=ButtonStyle()), DisabledBlankbuttonPushButton(disabled=True, layout=Layout(height=…"
      ]
     },
     "metadata": {},
     "output_type": "display_data"
    }
   ],
   "source": [
    "lyt = Layout(width='50px',height='5px', margin='0', padding='0', border='1')\n",
    "HBox((gvw.Button(), gvw.BlankButton(lyt), gvw.ButtonCell(True,(0,0)), gvw.BlankCell(lyt), gvw.ButtonCell(False,(0,0))))"
   ]
  },
  {
   "cell_type": "code",
   "execution_count": 5,
   "metadata": {},
   "outputs": [
    {
     "data": {
      "application/vnd.jupyter.widget-view+json": {
       "model_id": "843a5c7d57a64bd583bc71107c41c6a6",
       "version_major": 2,
       "version_minor": 0
      },
      "text/plain": [
       "HBox(children=(TextCell(value='1', continuous_update=False, description_tooltip='', layout=Layout(height='2em'…"
      ]
     },
     "metadata": {},
     "output_type": "display_data"
    }
   ],
   "source": [
    "HBox((gvw.TextCell('1', (0,0)), gvw.BlankCell(lyt), gvw.TextCell('2',(0,0)), gvw.BlankCell(lyt), gvw.TextCell('3',(0,0))))"
   ]
  },
  {
   "cell_type": "code",
   "execution_count": 6,
   "metadata": {},
   "outputs": [
    {
     "data": {
      "text/html": [
       "<style>\n",
       ".pink {background-color: seashell ; border:\"5px solid black\"}\n",
       ".blue {background-color: lightblue; }\n",
       "</style>"
      ],
      "text/plain": [
       "<IPython.core.display.HTML object>"
      ]
     },
     "metadata": {},
     "output_type": "display_data"
    }
   ],
   "source": [
    "%%html\n",
    "<style>\n",
    ".pink {background-color: seashell ; border:\"5px solid black\"}\n",
    ".blue {background-color: lightblue; }\n",
    "</style>"
   ]
  },
  {
   "cell_type": "code",
   "execution_count": 7,
   "metadata": {},
   "outputs": [
    {
     "data": {
      "application/vnd.jupyter.widget-view+json": {
       "model_id": "1b5547b7ce6143eb8c75aad651da6c11",
       "version_major": 2,
       "version_minor": 0
      },
      "text/plain": [
       "PinkPushButton(layout=Layout(height='2em', margin='0', padding='0', width='2em'), style=ButtonStyle(), _dom_cl…"
      ]
     },
     "metadata": {},
     "output_type": "display_data"
    }
   ],
   "source": [
    "gvw.styled_push_button(style_name='pink')()"
   ]
  },
  {
   "cell_type": "code",
   "execution_count": 8,
   "metadata": {},
   "outputs": [
    {
     "data": {
      "application/vnd.jupyter.widget-view+json": {
       "model_id": "1738f2113a95491fb92ab0b1d1a73448",
       "version_major": 2,
       "version_minor": 0
      },
      "text/plain": [
       "BlueButton(value=False, layout=Layout(height='2em', margin='0', padding='0', width='2em'), tooltip='0, 0', _do…"
      ]
     },
     "metadata": {},
     "output_type": "display_data"
    }
   ],
   "source": [
    "gvw.styled_button_cell(style_name='blue')(False, (0,0))"
   ]
  },
  {
   "cell_type": "code",
   "execution_count": 9,
   "metadata": {},
   "outputs": [
    {
     "data": {
      "application/vnd.jupyter.widget-view+json": {
       "model_id": "a3bb95335e154508adc63590f0f16acf",
       "version_major": 2,
       "version_minor": 0
      },
      "text/plain": [
       "BlueTextCell(value='1', continuous_update=False, description_tooltip='', layout=Layout(height='2em', margin='0…"
      ]
     },
     "metadata": {},
     "output_type": "display_data"
    }
   ],
   "source": [
    "gvw.styled_text_cell(style_name='blue')('1', (0,0))"
   ]
  },
  {
   "cell_type": "code",
   "execution_count": 10,
   "metadata": {},
   "outputs": [
    {
     "data": {
      "application/vnd.jupyter.widget-view+json": {
       "model_id": "88fd252353c64bc49400b5fa6c8b4a41",
       "version_major": 2,
       "version_minor": 0
      },
      "text/plain": [
       "ButtonCell(value=False, layout=Layout(height='2em', margin='0', padding='0', width='2em'), tooltip='0, 0', _do…"
      ]
     },
     "metadata": {},
     "output_type": "display_data"
    }
   ],
   "source": [
    "from sage_combinat_widgets.grid_view_widget import ButtonCell\n",
    "ButtonCell(False,(0,0))"
   ]
  },
  {
   "cell_type": "code",
   "execution_count": null,
   "metadata": {},
   "outputs": [],
   "source": []
  }
 ],
 "metadata": {
  "kernelspec": {
   "display_name": "Python 3",
   "language": "python",
   "name": "python3"
  },
  "language_info": {
   "codemirror_mode": {
    "name": "ipython",
    "version": 3
   },
   "file_extension": ".py",
   "mimetype": "text/x-python",
   "name": "python",
   "nbconvert_exporter": "python",
   "pygments_lexer": "ipython3",
   "version": "3.7.3"
  }
 },
 "nbformat": 4,
 "nbformat_minor": 4
}
