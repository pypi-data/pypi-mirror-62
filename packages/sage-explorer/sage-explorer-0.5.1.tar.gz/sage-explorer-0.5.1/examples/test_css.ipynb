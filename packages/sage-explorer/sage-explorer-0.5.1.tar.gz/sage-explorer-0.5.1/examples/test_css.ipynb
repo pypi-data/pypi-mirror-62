{
 "cells": [
  {
   "cell_type": "code",
   "execution_count": 4,
   "metadata": {},
   "outputs": [
    {
     "data": {
      "application/vnd.jupyter.widget-view+json": {
       "model_id": "1d9595ad5db949e59632cd28d41ed66e",
       "version_major": 2,
       "version_minor": 0
      },
      "text/plain": [
       "HBox(children=(Button(style=ButtonStyle()), ButtonCell(value=False, layout=Layout(height='2em', margin='0', pa…"
      ]
     },
     "metadata": {},
     "output_type": "display_data"
    }
   ],
   "source": [
    "from sage_combinat_widgets.grid_view_widget import *\n",
    "from ipywidgets import ToggleButton, Button, HBox\n",
    "b0 = Button()\n",
    "b = ButtonCell(False,(0,0))\n",
    "HBox((b0,b))"
   ]
  },
  {
   "cell_type": "code",
   "execution_count": 2,
   "metadata": {},
   "outputs": [],
   "source": [
    "#from sage_combinat_widgets import *"
   ]
  },
  {
   "cell_type": "code",
   "execution_count": 6,
   "metadata": {},
   "outputs": [
    {
     "data": {
      "application/vnd.jupyter.widget-view+json": {
       "model_id": "d65ddd1bc95449d68b32439f6fb10c9f",
       "version_major": 2,
       "version_minor": 0
      },
      "text/plain": [
       "TextCell(value='ok', continuous_update=False, description_tooltip='', layout=Layout(height='2em', margin='0', …"
      ]
     },
     "metadata": {},
     "output_type": "display_data"
    }
   ],
   "source": [
    "TextCell(\"ok\",(0,0))"
   ]
  },
  {
   "cell_type": "code",
   "execution_count": 5,
   "metadata": {},
   "outputs": [
    {
     "data": {
      "application/vnd.jupyter.widget-view+json": {
       "model_id": "9a32e2c4fe8b43ecac449459dd10dabb",
       "version_major": 2,
       "version_minor": 0
      },
      "text/plain": [
       "BlankCell(value='', disabled=True, layout=Layout(height='2em', margin='0', padding='0', width='3em'), _dom_cla…"
      ]
     },
     "metadata": {},
     "output_type": "display_data"
    }
   ],
   "source": [
    "BlankCell()"
   ]
  },
  {
   "cell_type": "code",
   "execution_count": null,
   "metadata": {},
   "outputs": [],
   "source": []
  }
 ],
 "metadata": {
  "kernelspec": {
   "display_name": "SageMath 8.9.rc0",
   "language": "sage",
   "name": "sagemath"
  },
  "language_info": {
   "codemirror_mode": {
    "name": "ipython",
    "version": 3
   },
   "file_extension": ".py",
   "mimetype": "text/x-python",
   "name": "python",
   "nbconvert_exporter": "python",
   "pygments_lexer": "ipython3",
   "version": "3.7.3"
  }
 },
 "nbformat": 4,
 "nbformat_minor": 2
}
