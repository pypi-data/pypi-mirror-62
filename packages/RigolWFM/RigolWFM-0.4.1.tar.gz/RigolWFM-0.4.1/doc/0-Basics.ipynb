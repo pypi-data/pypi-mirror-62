{
 "cells": [
  {
   "cell_type": "markdown",
   "metadata": {},
   "source": [
    "# Reading Rigol Stored Waveforms\n",
    "\n",
    "**Scott Prahl**\n",
    "\n",
    "**Jan 2020**"
   ]
  },
  {
   "cell_type": "code",
   "execution_count": 1,
   "metadata": {},
   "outputs": [],
   "source": [
    "import sys\n",
    "import numpy as np\n",
    "import matplotlib.pyplot as plt\n",
    "\n",
    "try:\n",
    "    import RigolWFM.wfm as rigol\n",
    "except:\n",
    "    print(\"***** You need to install the module to read Rigol files first *****\")\n",
    "    print(\"***** Execute the following line in a new cell, then retry     *****\")\n",
    "    print()\n",
    "    print(\"!{sys.executable} -m pip install RigolWFM\")"
   ]
  },
  {
   "cell_type": "markdown",
   "metadata": {},
   "source": [
    "## Introduction\n",
    "\n",
    "The idea is to create a robust, fast parser for waveform `.wfm` files created by Rigol oscilloscopes. Specifically,\n",
    "\n",
    "```python\n",
    "    import matplotlib.pyplot as plt\n",
    "    import RigolWFM.wfm as rigol\n",
    "\n",
    "    model = \"DS1102E'\n",
    "    filename = \"name.wfm\"\n",
    "    waveforms = rigol.Wfm.from_file(filename, model)\n",
    "    description = waveforms.describe()\n",
    "    print(description)\n",
    "    \n",
    "    url = \"https://somewebsite.com/path/file.wfm\"\n",
    "    waveforms = rigol.Wfm.from_url(url, model)\n",
    "    for ch in waveforms.channels:\n",
    "        plt.plot(ch.times, ch.volts, label=ch.name)\n",
    "    plt.legend()\n",
    "    plt.show()\n",
    "```"
   ]
  },
  {
   "cell_type": "markdown",
   "metadata": {},
   "source": [
    "## Motivation\n",
    "\n",
    "The `.wfm` format offers a few nice advantages\n",
    "\n",
    "* saving onto a USB drive on the scope is fast\n",
    "* uploading the `.wfm` file back to the scope is possible\n",
    "* no need to interface to a computer\n",
    "* the files are small (one byte per point)\n",
    "* all the settings are contained in the file header\n",
    "\n",
    "The disadvantage are that different scopes (and often different firmware version) have different formats.  Worse, documentation from Rigol on these formats is sparse at best.  Finally, the Rigol software to support reading these files is klunky."
   ]
  },
  {
   "cell_type": "markdown",
   "metadata": {},
   "source": [
    "## The `Wfm` class\n",
    "\n",
    "This is a class that has a just a few methods to create objects from files and urls:\n",
    "\n",
    "* Wfm.from_file(filename, scope_kind)\n",
    "* Wfm.from_url(url, scope_kind)\n",
    "\n",
    "It also has a few methods to manipulate the data.\n",
    "\n",
    "* Wfm.describe()\n",
    "* Wfm.csv()\n",
    "* Wfm.plot()\n",
    "\n",
    "The first two return strings.  The third produces a basic `matplotlib.pyplot.plt` object."
   ]
  },
  {
   "cell_type": "markdown",
   "metadata": {},
   "source": [
    "## Example of single trace waveform from local file\n",
    "\n",
    "First let's have look at the description of the internal file structure. We see that only channel 1 has been enabled."
   ]
  },
  {
   "cell_type": "code",
   "execution_count": 3,
   "metadata": {},
   "outputs": [
    {
     "name": "stdout",
     "output_type": "stream",
     "text": [
      "downloading 'https://github.com/scottprahl/RigolWFM/raw/master/wfm/DS1102E-D.wfm?raw=true'\n",
      "Channel 1\n",
      "    General:\n",
      "         Scope = 1000E\n",
      "      Firmware = unknown\n",
      "       Enabled = True\n",
      "    Voltage:\n",
      "        Scale  = 2 V/div\n",
      "        Offset = 2.4 V\n",
      "      Coupling = unknown\n",
      "    Time:\n",
      "        Scale  = 100 µs/div\n",
      "        Delay  = 0 s\n",
      "        Delta  = 400 ns/point\n",
      "    Data:\n",
      "        Points = 8188\n",
      "        Raw    = [       41,       41,       41  ...       110,      110]\n",
      "        Volts  = [   4.48 V,   4.48 V,   4.48 V  ...   -1.04 V,  -1.04 V]\n",
      "        Times  = [-1.6376 ms,-1.6372 ms,-1.6368 ms  ... 1.6372 ms,1.6376 ms]\n",
      "Channel 2\n",
      "    General:\n",
      "         Scope = 1000E\n",
      "      Firmware = unknown\n",
      "       Enabled = True\n",
      "    Voltage:\n",
      "        Scale  = 5 V/div\n",
      "        Offset = -15.8 V\n",
      "      Coupling = unknown\n",
      "    Time:\n",
      "        Scale  = 100 µs/div\n",
      "        Delay  = 0 s\n",
      "        Delta  = 400 ns/point\n",
      "    Data:\n",
      "        Points = 8188\n",
      "        Raw    = [      204,      204,      204  ...       178,      178]\n",
      "        Volts  = [   400 mV,   400 mV,   400 mV  ...     5.6 V,    5.6 V]\n",
      "        Times  = [-1.6376 ms,-1.6372 ms,-1.6368 ms  ... 1.6372 ms,1.6376 ms]\n",
      "\n"
     ]
    }
   ],
   "source": [
    "# raw=true is needed because this is a binary file\n",
    "wfm_url = \"https://github.com/scottprahl/RigolWFM/raw/master/wfm/DS1102E-D.wfm\" + \"?raw=true\"  \n",
    "w = rigol.Wfm.from_url(wfm_url, kind='DS1102E')\n",
    "\n",
    "description = w.describe()\n",
    "print(description)"
   ]
  },
  {
   "cell_type": "markdown",
   "metadata": {},
   "source": [
    "### Sample Plot"
   ]
  },
  {
   "cell_type": "code",
   "execution_count": 6,
   "metadata": {},
   "outputs": [
    {
     "data": {
      "image/png": "[encoded data removed]",
      "text/plain": [
       "<Figure size 432x288 with 1 Axes>"
      ]
     },
     "metadata": {
      "needs_background": "light"
     },
     "output_type": "display_data"
    }
   ],
   "source": [
    "w.plot()\n",
    "plt.title('Basic Plot')\n",
    "plt.show()"
   ]
  },
  {
   "cell_type": "markdown",
   "metadata": {},
   "source": [
    "### Sample `.csv` file"
   ]
  },
  {
   "cell_type": "code",
   "execution_count": 8,
   "metadata": {
    "scrolled": false
   },
   "outputs": [
    {
     "name": "stdout",
     "output_type": "stream",
     "text": [
      "0,4.480000e+00,4.000000e-01\n",
      "1,4.480000e+00,4.000000e-01\n",
      "2,4.480000e+00,4.000000e-01\n",
      "3,4.480000e+00,4.000000e-01\n",
      "4,4.480000e+00,4.000000e-01\n"
     ]
    }
   ],
   "source": [
    "s = w.csv()\n",
    "\n",
    "# just show the first few entries\n",
    "rows = s.split('\\n')\n",
    "for i in range(5):\n",
    "    print(rows[i])\n"
   ]
  },
  {
   "cell_type": "code",
   "execution_count": null,
   "metadata": {},
   "outputs": [],
   "source": []
  }
 ],
 "metadata": {
  "kernel_info": {
   "name": "python3"
  },
  "kernelspec": {
   "display_name": "Python 3",
   "language": "python",
   "name": "python3"
  },
  "language_info": {
   "codemirror_mode": {
    "name": "ipython",
    "version": 3
   },
   "file_extension": ".py",
   "mimetype": "text/x-python",
   "name": "python",
   "nbconvert_exporter": "python",
   "pygments_lexer": "ipython3",
   "version": "3.7.5"
  },
  "nteract": {
   "version": "0.15.0"
  }
 },
 "nbformat": 4,
 "nbformat_minor": 4
}
