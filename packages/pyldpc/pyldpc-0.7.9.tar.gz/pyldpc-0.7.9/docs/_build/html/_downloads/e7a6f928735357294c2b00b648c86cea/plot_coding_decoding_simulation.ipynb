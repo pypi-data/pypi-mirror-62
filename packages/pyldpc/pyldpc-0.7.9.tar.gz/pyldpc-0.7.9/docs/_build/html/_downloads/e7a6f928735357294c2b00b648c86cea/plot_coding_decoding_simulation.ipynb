{
  "cells": [
    {
      "cell_type": "code",
      "execution_count": null,
      "metadata": {
        "collapsed": false
      },
      "outputs": [],
      "source": [
        "%matplotlib inline"
      ]
    },
    {
      "cell_type": "markdown",
      "metadata": {},
      "source": [
        "\n# Coding - Decoding simulation of a random message\n\n\nThis example shows a simulation of the transmission of a binary message\nthrough a gaussian white noise channel with an LDPC coding and decoding system.\n\n"
      ]
    },
    {
      "cell_type": "code",
      "execution_count": null,
      "metadata": {
        "collapsed": false
      },
      "outputs": [],
      "source": [
        "import numpy as np\nfrom pyldpc import (make_ldpc, binaryproduct, decode, get_message, encode)\nfrom matplotlib import pyplot as plt\n\nn = 100\nd_v = 4\nd_c = 5\nseed = 42"
      ]
    },
    {
      "cell_type": "markdown",
      "metadata": {},
      "source": [
        "First we create an LDPC code i.e a pair of decoding and coding matrices\nH and G. H is a regular parity-check matrix with d_v ones per row\nand d_c ones per column\n\n"
      ]
    },
    {
      "cell_type": "code",
      "execution_count": null,
      "metadata": {
        "collapsed": false
      },
      "outputs": [],
      "source": [
        "H, G = make_ldpc(n, d_v, d_c, seed=seed, systematic=True, sparse=True)\n# test if H and G are orthogonal\nassert not binaryproduct(H, G).any()\nn, k = G.shape\nprint(\"Code length:\", k)"
      ]
    },
    {
      "cell_type": "markdown",
      "metadata": {},
      "source": [
        "Now we simulate transmission for different levels of noise and\ncompute the percentage of errors using the bit-error-rate score\n\n"
      ]
    },
    {
      "cell_type": "code",
      "execution_count": null,
      "metadata": {
        "collapsed": false
      },
      "outputs": [],
      "source": [
        "errors = []\nsnrs = np.arange(-10, 10, 2)\nv = np.arange(k) % 2  # fixed k bits message\nfor snr in snrs:\n    y = encode(G, v, snr, seed)\n    d = decode(H, y, snr, maxiter=100, log=True)\n    x = get_message(G, d)\n    error = abs(v - x).sum() / k\n    errors.append(error)\n\nplt.figure()\nplt.plot(snrs, errors, color=\"indianred\")\nplt.ylabel(\"Bit error rate\")\nplt.xlabel(\"SNR\")\nplt.show()"
      ]
    }
  ],
  "metadata": {
    "kernelspec": {
      "display_name": "Python 3",
      "language": "python",
      "name": "python3"
    },
    "language_info": {
      "codemirror_mode": {
        "name": "ipython",
        "version": 3
      },
      "file_extension": ".py",
      "mimetype": "text/x-python",
      "name": "python",
      "nbconvert_exporter": "python",
      "pygments_lexer": "ipython3",
      "version": "3.6.8"
    }
  },
  "nbformat": 4,
  "nbformat_minor": 0
}