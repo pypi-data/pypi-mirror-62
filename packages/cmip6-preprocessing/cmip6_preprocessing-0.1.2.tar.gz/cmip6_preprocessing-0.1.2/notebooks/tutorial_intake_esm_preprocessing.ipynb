{
 "cells": [
  {
   "cell_type": "markdown",
   "metadata": {},
   "source": [
    "# How to use custom preprocessing functions with `intake_esm`\n",
    "\n",
    "installed manually with `pip install git+https://github.com/NCAR/intake-esm.git` to get the latest version."
   ]
  },
  {
   "cell_type": "code",
   "execution_count": 2,
   "metadata": {},
   "outputs": [
    {
     "data": {
      "text/plain": [
       "'2019.10.15.post18'"
      ]
     },
     "execution_count": 2,
     "metadata": {},
     "output_type": "execute_result"
    }
   ],
   "source": [
    "import intake\n",
    "import intake_esm\n",
    "intake_esm.__version__"
   ]
  },
  {
   "cell_type": "markdown",
   "metadata": {},
   "source": [
    "A common annoyance with CMIP6 data is that not all instutions followed a uniform naming convention, resulting in problems when a user tries to loop over several models for comparison of certain fields.\n",
    "\n",
    "`cmip6_preprocessing` provides a renaming function which we can pass directly to `intake_esm` to get consistently named datasets.\n",
    "\n",
    "First consider a basic model selection (temperature data from historical run for 3 models on the native grid):"
   ]
  },
  {
   "cell_type": "code",
   "execution_count": 12,
   "metadata": {},
   "outputs": [
    {
     "name": "stdout",
     "output_type": "stream",
     "text": [
      "--> The keys in the returned dictionary of datasets are constructed as follows:\n",
      "\t'activity_id.institution_id.source_id.experiment_id.table_id.grid_label'\n",
      "\n",
      "--> There will be 3 group(s)\n",
      "CMIP.BCC.BCC-CSM2-MR.historical.Omon.gn\n",
      "['bnds', 'lat', 'lev', 'lon', 'member_id', 'time']\n",
      "CMIP.NOAA-GFDL.GFDL-ESM4.historical.Omon.gn\n",
      "['bnds', 'lev', 'member_id', 'time', 'vertex', 'x', 'y']\n",
      "CMIP.UA.MCM-UA-1-0.historical.Omon.gn\n",
      "['bnds', 'latitude', 'lev', 'longitude', 'member_id', 'time']\n"
     ]
    }
   ],
   "source": [
    "query = dict(experiment_id='historical',# table_id='Oyr', \n",
    "             variable_id='thetao', grid_label='gn', member_id='r1i1p1f1',\n",
    "             source_id=['MCM-UA-1-0', 'BCC-CSM2-MR', 'GFDL-ESM4'])\n",
    "cat = col.search(**query)\n",
    "\n",
    "dsets_pp = cat.to_dataset_dict()\n",
    "for k, ds in dsets_pp.items():\n",
    "    print(k)\n",
    "    print(list(ds.dims))"
   ]
  },
  {
   "cell_type": "markdown",
   "metadata": {},
   "source": [
    "**Note the inhomogenous naming of variables**. In order to compare models we ideally want every dataset to have the same dimension names. We can achieve this by passing `rename_cmip6` as `preprocess` argument."
   ]
  },
  {
   "cell_type": "code",
   "execution_count": 13,
   "metadata": {},
   "outputs": [
    {
     "name": "stdout",
     "output_type": "stream",
     "text": [
      "--> The keys in the returned dictionary of datasets are constructed as follows:\n",
      "\t'activity_id.institution_id.source_id.experiment_id.table_id.grid_label'\n",
      "\n",
      "--> There will be 3 group(s)\n",
      "CMIP.BCC.BCC-CSM2-MR.historical.Omon.gn\n",
      "['bnds', 'lev', 'member_id', 'time', 'x', 'y']\n",
      "CMIP.NOAA-GFDL.GFDL-ESM4.historical.Omon.gn\n",
      "['bnds', 'lev', 'member_id', 'time', 'vertex', 'x', 'y']\n",
      "CMIP.UA.MCM-UA-1-0.historical.Omon.gn\n",
      "['bnds', 'lev', 'member_id', 'time', 'x', 'y']\n"
     ]
    }
   ],
   "source": [
    "# Import custom renaming function\n",
    "from cmip6_preprocessing.preprocessing import rename_cmip6\n",
    "\n",
    "# pass to intake_esm\n",
    "dsets_pp_renamed = cat.to_dataset_dict(preprocess=rename_cmip6)\n",
    "for k, ds in dsets_pp_renamed.items():\n",
    "    print(k)\n",
    "    print(list(ds.dims))"
   ]
  },
  {
   "cell_type": "markdown",
   "metadata": {},
   "source": [
    "Now they all have consistent dimension names!\n",
    "\n",
    "![](https://media.giphy.com/media/142UITjG5GjIRi/giphy.gif)"
   ]
  }
 ],
 "metadata": {
  "kernelspec": {
   "display_name": "Python 3",
   "language": "python",
   "name": "python3"
  },
  "language_info": {
   "codemirror_mode": {
    "name": "ipython",
    "version": 3
   },
   "file_extension": ".py",
   "mimetype": "text/x-python",
   "name": "python",
   "nbconvert_exporter": "python",
   "pygments_lexer": "ipython3",
   "version": "3.7.3"
  }
 },
 "nbformat": 4,
 "nbformat_minor": 4
}
