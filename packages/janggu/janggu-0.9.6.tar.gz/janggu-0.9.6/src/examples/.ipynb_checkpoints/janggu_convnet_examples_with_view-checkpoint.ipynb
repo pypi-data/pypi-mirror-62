{
 "cells": [
  {
   "cell_type": "markdown",
   "metadata": {},
   "source": [
    "# Predict regulatory regions from the DNA sequence with Janggu"
   ]
  },
  {
   "cell_type": "markdown",
   "metadata": {},
   "source": [
    "In this notebook we illustrate several variants how to predict regulatory regions (of a toy example) from the DNA sequence.\n",
    "The reference genome is made up of a concatenation of Oct4 and Mafk binding sites and we shall use all regions on chromosome 'pseudo1' as training\n",
    "and 'pseudo2' as test chromosomes."
   ]
  },
  {
   "cell_type": "code",
   "execution_count": 1,
   "metadata": {},
   "outputs": [
    {
     "name": "stderr",
     "output_type": "stream",
     "text": [
      "/home/wkopp/anaconda3/envs/jdev/lib/python3.6/site-packages/h5py/__init__.py:36: FutureWarning: Conversion of the second argument of issubdtype from `float` to `np.floating` is deprecated. In future, it will be treated as `np.float64 == np.dtype(float).type`.\n",
      "  from ._conv import register_converters as _register_converters\n",
      "Using TensorFlow backend.\n"
     ]
    }
   ],
   "source": [
    "import os\n",
    "\n",
    "import numpy as np\n",
    "from keras import Model\n",
    "from keras import backend as K\n",
    "from keras.layers import Conv2D\n",
    "\n",
    "from keras.layers import Dense\n",
    "from keras.layers import GlobalAveragePooling2D\n",
    "from keras.layers import Input\n",
    "from keras.layers import Reshape\n",
    "\n",
    "from pkg_resources import resource_filename\n",
    "\n",
    "from janggu import Janggu\n",
    "from janggu import Scorer\n",
    "from janggu import inputlayer\n",
    "from janggu import outputdense\n",
    "from janggu.data import Bioseq\n",
    "from janggu.data import Cover\n",
    "from janggu.data import ReduceDim\n",
    "from janggu.layers import DnaConv2D\n",
    "from janggu.layers import LocalAveragePooling2D\n",
    "from janggu.utils import ExportClustermap\n",
    "from janggu.utils import ExportTsne\n",
    "from janggu.utils import ExportTsv\n",
    "\n",
    "from IPython.display import Image\n",
    "\n",
    "np.random.seed(1234)"
   ]
  },
  {
   "cell_type": "markdown",
   "metadata": {},
   "source": [
    "First, we need to specify the output directory in which the results are stored."
   ]
  },
  {
   "cell_type": "code",
   "execution_count": 2,
   "metadata": {},
   "outputs": [],
   "source": [
    "os.environ['JANGGU_OUTPUT'] = '/home/wkopp/janggu_examples'"
   ]
  },
  {
   "cell_type": "markdown",
   "metadata": {},
   "source": [
    "Specify the DNA sequence feature order. Order 1, 2 and 3 correspond to mono-, di- and tri-nucleotide based features (see Tutorial)."
   ]
  },
  {
   "cell_type": "code",
   "execution_count": 3,
   "metadata": {},
   "outputs": [],
   "source": [
    "order = 3"
   ]
  },
  {
   "cell_type": "code",
   "execution_count": 4,
   "metadata": {},
   "outputs": [],
   "source": [
    "# load the dataset\n",
    "# The pseudo genome represents just a concatenation of all sequences\n",
    "# in sample.fa and sample2.fa. Therefore, the results should be almost\n",
    "# identically to the models obtained from classify_fasta.py.\n",
    "REFGENOME = resource_filename('janggu', 'resources/pseudo_genome.fa')\n",
    "# ROI contains regions spanning positive and negative examples\n",
    "ROI_TRAIN_FILE = resource_filename('janggu', 'resources/roi_train.bed')\n",
    "ROI_TEST_FILE = resource_filename('janggu', 'resources/roi_test.bed')\n",
    "# PEAK_FILE only contains positive examples\n",
    "PEAK_FILE = resource_filename('janggu', 'resources/scores.bed')"
   ]
  },
  {
   "cell_type": "markdown",
   "metadata": {},
   "source": [
    "Load the datasets for training and testing"
   ]
  },
  {
   "cell_type": "markdown",
   "metadata": {},
   "source": [
    "## Reusing the same dataset for training and test regions with view"
   ]
  },
  {
   "cell_type": "markdown",
   "metadata": {},
   "source": [
    "When you have loaded the datasets using the store_whole_genome=True option, it is possible to reuse the same\n",
    "dataset with different region of interests. To this end, the view method can be used to create another view on the dataset.\n",
    "The advantage of this option is that the memory footprint will remain the same."
   ]
  },
  {
   "cell_type": "code",
   "execution_count": 5,
   "metadata": {},
   "outputs": [],
   "source": [
    "from janggu.data import view"
   ]
  },
  {
   "cell_type": "code",
   "execution_count": 6,
   "metadata": {},
   "outputs": [
    {
     "name": "stdout",
     "output_type": "stream",
     "text": [
      "loading from lazy loader\n",
      "loading from bed lazy loader\n"
     ]
    }
   ],
   "source": [
    "DNA_TRAIN = Bioseq.create_from_refgenome('dna', refgenome=REFGENOME,\n",
    "                                   roi=ROI_TRAIN_FILE,\n",
    "                                   order=order,\n",
    "                                   binsize=200,\n",
    "                                   store_whole_genome=True)\n",
    "                                   \n",
    "LABELS_TRAIN = Cover.create_from_bed('peaks', roi=ROI_TRAIN_FILE,\n",
    "                               bedfiles=PEAK_FILE,\n",
    "                               binsize=200,\n",
    "                               resolution=200,\n",
    "                               storage='sparse',\n",
    "                               store_whole_genome=True)\n",
    "\n",
    "\n",
    "DNA_TEST = view(DNA_TRAIN, ROI_TEST_FILE)\n",
    "LABELS_TEST = view(DNA_TRAIN, ROI_TEST_FILE)"
   ]
  },
  {
   "cell_type": "code",
   "execution_count": 7,
   "metadata": {},
   "outputs": [
    {
     "data": {
      "text/plain": [
       "((7797, 198, 1, 64), (200, 198, 1, 64))"
      ]
     },
     "execution_count": 7,
     "metadata": {},
     "output_type": "execute_result"
    }
   ],
   "source": [
    "DNA_TRAIN.shape, DNA_TEST.shape"
   ]
  },
  {
   "cell_type": "code",
   "execution_count": 8,
   "metadata": {},
   "outputs": [
    {
     "data": {
      "text/plain": [
       "((7797, 1, 1, 1), (200, 198, 1, 64))"
      ]
     },
     "execution_count": 8,
     "metadata": {},
     "output_type": "execute_result"
    }
   ],
   "source": [
    "LABELS_TRAIN.shape, LABELS_TEST.shape"
   ]
  },
  {
   "cell_type": "code",
   "execution_count": 9,
   "metadata": {},
   "outputs": [
    {
     "name": "stdout",
     "output_type": "stream",
     "text": [
      "loading from lazy loader\n",
      "reload /home/wkopp/janggu_examples/datasets/dna/09dc9f2602f1bea4bf22fd52b8adfa21c7500a31f70c0ef7a506f79a4f92b43a.npz\n",
      "loading from bed lazy loader\n",
      "reload /home/wkopp/janggu_examples/datasets/peaks/fd9826cf7fb9cc044a6c1354a14688c1be0f0bd9c593fdba2e9af3284a2be099.npz\n",
      "loading from lazy loader\n",
      "loading from bed lazy loader\n"
     ]
    }
   ],
   "source": [
    "# Training input and labels are purely defined genomic coordinates\n",
    "DNA = Bioseq.create_from_refgenome('dna', refgenome=REFGENOME,\n",
    "                                   roi=ROI_TRAIN_FILE,\n",
    "                                   binsize=200,\n",
    "                                   order=order,\n",
    "                                   cache=True)\n",
    "\n",
    "LABELS = Cover.create_from_bed('peaks', roi=ROI_TRAIN_FILE,\n",
    "                               bedfiles=PEAK_FILE,\n",
    "                               binsize=200,\n",
    "                               resolution=200,\n",
    "                               cache=True,\n",
    "                               storage='sparse')\n",
    "\n",
    "\n",
    "DNA_TEST = Bioseq.create_from_refgenome('dna', refgenome=REFGENOME,\n",
    "                                        roi=ROI_TEST_FILE,\n",
    "                                        binsize=200,\n",
    "                                        order=order)\n",
    "\n",
    "LABELS_TEST = Cover.create_from_bed('peaks',\n",
    "                                    bedfiles=PEAK_FILE,\n",
    "                                    roi=ROI_TEST_FILE,\n",
    "                                    binsize=200,\n",
    "                                    resolution=200,\n",
    "                                    storage='sparse')\n"
   ]
  },
  {
   "cell_type": "markdown",
   "metadata": {},
   "source": [
    "## Define and fit a model"
   ]
  },
  {
   "cell_type": "markdown",
   "metadata": {},
   "source": [
    "Neural networks can also be defined using the Janggu wrappers for keras.\n",
    "This offers a few additional advantages, including reduced redundancy for defining models or automated evaluation."
   ]
  },
  {
   "cell_type": "markdown",
   "metadata": {},
   "source": [
    "First we define model using keras using a method. The decorators will automatically instantiate the initial layers and the output layers with the correct dimensionality. In the example above, this needed to be specified explicitly."
   ]
  },
  {
   "cell_type": "code",
   "execution_count": 10,
   "metadata": {},
   "outputs": [],
   "source": [
    "@inputlayer\n",
    "@outputdense('sigmoid')\n",
    "def double_stranded_model_dnaconv(inputs, inp, oup, params):\n",
    "    \"\"\" keras model for scanning both DNA strands.\n",
    "\n",
    "    A more elegant way of scanning both strands for motif occurrences\n",
    "    is achieved by the DnaConv2D layer wrapper, which internally\n",
    "    performs the convolution operation with the normal kernel weights\n",
    "    and the reverse complemented weights.\n",
    "    \"\"\"\n",
    "    with inputs.use('dna') as layer:\n",
    "        # the name in inputs.use() should be the same as the dataset name.\n",
    "        layer = DnaConv2D(Conv2D(params[0], (params[1], 1),\n",
    "                                 activation=params[2]))(layer)\n",
    "    output = GlobalAveragePooling2D(name='motif')(layer)\n",
    "    return inputs, output\n"
   ]
  },
  {
   "cell_type": "markdown",
   "metadata": {},
   "source": [
    "Now the model can be instantiated accordingly. We will also use a specific model name (which is optional)."
   ]
  },
  {
   "cell_type": "code",
   "execution_count": 11,
   "metadata": {},
   "outputs": [],
   "source": [
    "modelname = 'dna2peak_ex4_order{}'.format(order)"
   ]
  },
  {
   "cell_type": "code",
   "execution_count": 12,
   "metadata": {},
   "outputs": [],
   "source": [
    "# create a new model object\n",
    "model = Janggu.create(template=double_stranded_model_dnaconv,\n",
    "                      modelparams=(30, 21, 'relu'),\n",
    "                      inputs=DNA,\n",
    "                      outputs=ReduceDim(LABELS),\n",
    "                      name=modelname)\n",
    "\n",
    "model.compile(optimizer='adadelta', loss='binary_crossentropy',\n",
    "              metrics=['acc'])\n",
    "\n"
   ]
  },
  {
   "cell_type": "markdown",
   "metadata": {},
   "source": [
    "Model fitting is similar as before."
   ]
  },
  {
   "cell_type": "markdown",
   "metadata": {},
   "source": [
    "Note also the use of ReduceDim which converts the original 4D Cover object to 2D table-like data structure. This is just for convenience, since it is also possible to set up a model as in the previous example."
   ]
  },
  {
   "cell_type": "code",
   "execution_count": null,
   "metadata": {},
   "outputs": [
    {
     "name": "stdout",
     "output_type": "stream",
     "text": [
      "Epoch 1/100\n",
      "244/244 [==============================] - 4s 16ms/step - loss: 0.6283 - acc: 0.6446\n",
      "Epoch 2/100\n",
      "244/244 [==============================] - 3s 11ms/step - loss: 0.5201 - acc: 0.7643\n",
      "Epoch 3/100\n",
      "244/244 [==============================] - 3s 12ms/step - loss: 0.4626 - acc: 0.7998\n",
      "Epoch 4/100\n",
      "244/244 [==============================] - 3s 11ms/step - loss: 0.4238 - acc: 0.8196\n",
      "Epoch 5/100\n",
      "244/244 [==============================] - 3s 11ms/step - loss: 0.3951 - acc: 0.8345\n",
      "Epoch 6/100\n",
      "244/244 [==============================] - 3s 11ms/step - loss: 0.3704 - acc: 0.8443\n",
      "Epoch 7/100\n",
      "244/244 [==============================] - 3s 11ms/step - loss: 0.3473 - acc: 0.8586\n",
      "Epoch 8/100\n",
      "244/244 [==============================] - 3s 11ms/step - loss: 0.3259 - acc: 0.8684\n",
      "Epoch 9/100\n",
      "244/244 [==============================] - 3s 12ms/step - loss: 0.3048 - acc: 0.8781\n",
      "Epoch 10/100\n",
      "244/244 [==============================] - 3s 11ms/step - loss: 0.2838 - acc: 0.8877\n",
      "Epoch 11/100\n",
      " 22/244 [=>............................] - ETA: 3s - loss: 0.2614 - acc: 0.9006"
     ]
    }
   ],
   "source": [
    "hist = model.fit(DNA, ReduceDim(LABELS), epochs=100)\n",
    "\n",
    "print('#' * 40)\n",
    "print('loss: {}, acc: {}'.format(hist.history['loss'][-1],\n",
    "                                 hist.history['acc'][-1]))\n",
    "print('#' * 40)\n"
   ]
  },
  {
   "cell_type": "code",
   "execution_count": null,
   "metadata": {},
   "outputs": [],
   "source": [
    "# do the evaluation on the independent test data\n",
    "model.evaluate(DNA_TEST, ReduceDim(LABELS_TEST), datatags=['test'],\n",
    "               callbacks=['auc', 'auprc', 'roc', 'prc'])"
   ]
  },
  {
   "cell_type": "code",
   "execution_count": null,
   "metadata": {},
   "outputs": [],
   "source": [
    "evaluation_folder = os.path.join(os.environ['JANGGU_OUTPUT'], 'evaluation', modelname, 'test')"
   ]
  },
  {
   "cell_type": "code",
   "execution_count": null,
   "metadata": {},
   "outputs": [],
   "source": [
    "Image(os.path.join(evaluation_folder, 'prc.png'))"
   ]
  },
  {
   "cell_type": "code",
   "execution_count": null,
   "metadata": {},
   "outputs": [],
   "source": [
    "Image(os.path.join(evaluation_folder, 'roc.png'))"
   ]
  },
  {
   "cell_type": "markdown",
   "metadata": {},
   "source": [
    "To some extent view can also be used if the option store_whole_genome=False was selected. However, in this case please make sure that the\n",
    "dataset was originally loaded with the union of all regions that are relevant e.g. training and test sets."
   ]
  },
  {
   "cell_type": "markdown",
   "metadata": {},
   "source": [
    "This is shown in the following example."
   ]
  },
  {
   "cell_type": "code",
   "execution_count": null,
   "metadata": {},
   "outputs": [],
   "source": [
    "\n",
    "# ROI contains regions spanning positive and negative examples\n",
    "ROI_FILE = resource_filename('janggu', 'resources/roi.bed')\n",
    "ROI_TRAIN_FILE = resource_filename('janggu', 'resources/roi_train.bed')\n",
    "ROI_TEST_FILE = resource_filename('janggu', 'resources/roi_test.bed')\n",
    "\n",
    "# First load the union of all peaks\n",
    "DNA = Bioseq.create_from_refgenome('dna', refgenome=REFGENOME,\n",
    "                                   roi=ROI_FILE,\n",
    "                                   order=order,\n",
    "                                   binsize=200,\n",
    "                                   store_whole_genome=False)\n",
    "                                   \n",
    "LABELS = Cover.create_from_bed('peaks', roi=ROI_FILE,\n",
    "                               bedfiles=PEAK_FILE,\n",
    "                               binsize=200,\n",
    "                               resolution=200,\n",
    "                               storage='sparse',\n",
    "                               store_whole_genome=False)\n",
    "\n",
    "# in case the dataset has been loaded with store_whole_genome=True,\n",
    "# it is possible to reuse the same dataset by subsetting on different\n",
    "# regions of the genome.                \n",
    "DNA_TRAIN = view(DNA, ROI_TRAIN_FILE)\n",
    "LABELS_TRAIN = view(LABELS, ROI_TRAIN_FILE)\n",
    "DNA_TEST = view(DNA, ROI_TEST_FILE)\n",
    "LABELS_TEST = view(LABELS, ROI_TEST_FILE)\n",
    "\n"
   ]
  },
  {
   "cell_type": "code",
   "execution_count": null,
   "metadata": {},
   "outputs": [],
   "source": [
    "DNA_TRAIN.shape, DNA_TEST.shape"
   ]
  },
  {
   "cell_type": "code",
   "execution_count": null,
   "metadata": {},
   "outputs": [],
   "source": [
    "LABELS_TRAIN.shape, LABELS_TEST.shape"
   ]
  }
 ],
 "metadata": {
  "kernelspec": {
   "display_name": "Python 3",
   "language": "python",
   "name": "python3"
  },
  "language_info": {
   "codemirror_mode": {
    "name": "ipython",
    "version": 3
   },
   "file_extension": ".py",
   "mimetype": "text/x-python",
   "name": "python",
   "nbconvert_exporter": "python",
   "pygments_lexer": "ipython3",
   "version": "3.6.8"
  }
 },
 "nbformat": 4,
 "nbformat_minor": 2
}
