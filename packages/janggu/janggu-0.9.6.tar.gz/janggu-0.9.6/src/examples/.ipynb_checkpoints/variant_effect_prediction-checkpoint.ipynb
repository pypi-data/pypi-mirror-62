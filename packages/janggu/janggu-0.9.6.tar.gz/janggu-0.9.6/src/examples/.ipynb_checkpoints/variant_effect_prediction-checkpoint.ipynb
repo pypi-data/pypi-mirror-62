{
 "cells": [
  {
   "cell_type": "markdown",
   "metadata": {},
   "source": [
    "# Input attribution and Variant effect prediction"
   ]
  },
  {
   "cell_type": "markdown",
   "metadata": {},
   "source": [
    "In this tutorial we illustrate input feature importance attribution and variant effect prediction."
   ]
  },
  {
   "cell_type": "code",
   "execution_count": 1,
   "metadata": {},
   "outputs": [
    {
     "name": "stderr",
     "output_type": "stream",
     "text": [
      "Using TensorFlow backend.\n"
     ]
    }
   ],
   "source": [
    "import os\n",
    "\n",
    "import numpy as np\n",
    "import h5py\n",
    "from keras import backend as K\n",
    "from keras.layers import Conv2D\n",
    "from keras.layers import GlobalAveragePooling2D\n",
    "from pkg_resources import resource_filename\n",
    "\n",
    "from janggu import Janggu\n",
    "from janggu import Scorer\n",
    "from janggu import inputlayer\n",
    "from janggu import outputdense\n",
    "from janggu.data import Bioseq\n",
    "from janggu.data import Cover\n",
    "from janggu.data import GenomicIndexer\n",
    "from janggu.data import ReduceDim\n",
    "from janggu.data import plotGenomeTrack\n",
    "from janggu.data import LineTrack\n",
    "from janggu.data import SeqTrack\n",
    "from janggu.layers import DnaConv2D\n",
    "from janggu import input_attribution\n",
    "\n",
    "np.random.seed(1234)"
   ]
  },
  {
   "cell_type": "markdown",
   "metadata": {},
   "source": [
    "First, we need to specify the output directory in which the results are stored and load the datasets. We also specify the number of epochs to train the model and the sequence feature order."
   ]
  },
  {
   "cell_type": "code",
   "execution_count": 4,
   "metadata": {},
   "outputs": [],
   "source": [
    "order = 3\n",
    "epochs = 100"
   ]
  },
  {
   "cell_type": "code",
   "execution_count": 5,
   "metadata": {},
   "outputs": [],
   "source": [
    "os.environ['JANGGU_OUTPUT'] = '/home/wkopp/janggu_examples'\n",
    "\n",
    "# load the dataset\n",
    "# The pseudo genome represents just a concatenation of all sequences\n",
    "# in sample.fa and sample2.fa. Therefore, the results should be almost\n",
    "# identically to the models obtained from classify_fasta.py.\n",
    "REFGENOME = resource_filename('janggu', 'resources/pseudo_genome.fa')\n",
    "VCFFILE = resource_filename('janggu', 'resources/pseudo_snps.vcf')\n",
    "# ROI contains regions spanning positive and negative examples\n",
    "ROI_TRAIN_FILE = resource_filename('janggu', 'resources/roi_train.bed')\n",
    "ROI_TEST_FILE = resource_filename('janggu', 'resources/roi_test.bed')\n",
    "\n",
    "# PEAK_FILE only contains positive examples\n",
    "PEAK_FILE = resource_filename('janggu', 'resources/scores.bed')"
   ]
  },
  {
   "cell_type": "code",
   "execution_count": 6,
   "metadata": {},
   "outputs": [
    {
     "name": "stdout",
     "output_type": "stream",
     "text": [
      "loading from lazy loader\n",
      "loading from bed lazy loader\n",
      "loading from lazy loader\n",
      "loading from bed lazy loader\n"
     ]
    }
   ],
   "source": [
    "# Training input and labels are purely defined genomic coordinates\n",
    "DNA = Bioseq.create_from_refgenome('dna', refgenome=REFGENOME,\n",
    "                                   roi=ROI_TRAIN_FILE,\n",
    "                                   binsize=200,\n",
    "                                   store_whole_genome=True,\n",
    "                                   order=order)\n",
    "\n",
    "LABELS = Cover.create_from_bed('peaks', roi=ROI_TRAIN_FILE,\n",
    "                               bedfiles=PEAK_FILE,\n",
    "                               binsize=200,\n",
    "                               resolution=200)\n",
    "\n",
    "\n",
    "DNA_TEST = Bioseq.create_from_refgenome('dna', refgenome=REFGENOME,\n",
    "                                        roi=ROI_TEST_FILE,\n",
    "                                        binsize=200,\n",
    "                                        store_whole_genome=True,\n",
    "                                        order=order)\n",
    "\n",
    "LABELS_TEST = Cover.create_from_bed('peaks',\n",
    "                                    roi=ROI_TEST_FILE,\n",
    "                                    bedfiles=PEAK_FILE,\n",
    "                                    binsize=200,\n",
    "                                    resolution=200)"
   ]
  },
  {
   "cell_type": "markdown",
   "metadata": {},
   "source": [
    "Define and fit a now model"
   ]
  },
  {
   "cell_type": "code",
   "execution_count": 9,
   "metadata": {},
   "outputs": [
    {
     "name": "stdout",
     "output_type": "stream",
     "text": [
      "Generated model-id: '485b2e54f83dabde1f86a10f3d7e6c86'\n",
      "Epoch 1/100\n",
      "244/244 [==============================] - 17s 70ms/step - loss: 0.6361 - acc: 0.6444\n",
      "Epoch 2/100\n",
      "244/244 [==============================] - 16s 67ms/step - loss: 0.5326 - acc: 0.7618\n",
      "Epoch 3/100\n",
      "244/244 [==============================] - 17s 68ms/step - loss: 0.4752 - acc: 0.7916\n",
      "Epoch 4/100\n",
      "244/244 [==============================] - 16s 67ms/step - loss: 0.4340 - acc: 0.8155\n",
      "Epoch 5/100\n",
      "244/244 [==============================] - 17s 69ms/step - loss: 0.4050 - acc: 0.8255\n",
      "Epoch 6/100\n",
      "244/244 [==============================] - 16s 67ms/step - loss: 0.3812 - acc: 0.8372\n",
      "Epoch 7/100\n",
      "244/244 [==============================] - 17s 68ms/step - loss: 0.3607 - acc: 0.8480\n",
      "Epoch 8/100\n",
      "244/244 [==============================] - 17s 71ms/step - loss: 0.3392 - acc: 0.8600\n",
      "Epoch 9/100\n",
      "244/244 [==============================] - 18s 72ms/step - loss: 0.3181 - acc: 0.8722\n",
      "Epoch 10/100\n",
      "244/244 [==============================] - 17s 70ms/step - loss: 0.2984 - acc: 0.8819\n",
      "Epoch 11/100\n",
      "244/244 [==============================] - 17s 71ms/step - loss: 0.2783 - acc: 0.8915\n",
      "Epoch 12/100\n",
      "244/244 [==============================] - 17s 71ms/step - loss: 0.2592 - acc: 0.9021\n",
      "Epoch 13/100\n",
      "244/244 [==============================] - 17s 71ms/step - loss: 0.2406 - acc: 0.9127\n",
      "Epoch 14/100\n",
      "244/244 [==============================] - 17s 71ms/step - loss: 0.2234 - acc: 0.9211\n",
      "Epoch 15/100\n",
      "244/244 [==============================] - 17s 71ms/step - loss: 0.2079 - acc: 0.9292\n",
      "Epoch 16/100\n",
      "244/244 [==============================] - 17s 70ms/step - loss: 0.1937 - acc: 0.9344\n",
      "Epoch 17/100\n",
      "244/244 [==============================] - 17s 71ms/step - loss: 0.1805 - acc: 0.9402\n",
      "Epoch 18/100\n",
      "244/244 [==============================] - 17s 71ms/step - loss: 0.1692 - acc: 0.9436\n",
      "Epoch 19/100\n",
      "244/244 [==============================] - 17s 70ms/step - loss: 0.1596 - acc: 0.9481\n",
      "Epoch 20/100\n",
      "244/244 [==============================] - 17s 69ms/step - loss: 0.1498 - acc: 0.9516\n",
      "Epoch 21/100\n",
      "244/244 [==============================] - 16s 64ms/step - loss: 0.1409 - acc: 0.9562\n",
      "Epoch 22/100\n",
      "244/244 [==============================] - 16s 65ms/step - loss: 0.1341 - acc: 0.9565\n",
      "Epoch 23/100\n",
      "244/244 [==============================] - 16s 65ms/step - loss: 0.1272 - acc: 0.9600\n",
      "Epoch 24/100\n",
      "244/244 [==============================] - 16s 65ms/step - loss: 0.1205 - acc: 0.9615\n",
      "Epoch 25/100\n",
      "244/244 [==============================] - 16s 65ms/step - loss: 0.1149 - acc: 0.9614\n",
      "Epoch 26/100\n",
      "244/244 [==============================] - 17s 70ms/step - loss: 0.1088 - acc: 0.9663\n",
      "Epoch 27/100\n",
      "244/244 [==============================] - 18s 72ms/step - loss: 0.1052 - acc: 0.9689\n",
      "Epoch 28/100\n",
      "244/244 [==============================] - 17s 71ms/step - loss: 0.1006 - acc: 0.9693\n",
      "Epoch 29/100\n",
      "244/244 [==============================] - 17s 69ms/step - loss: 0.0970 - acc: 0.9711\n",
      "Epoch 30/100\n",
      "244/244 [==============================] - 16s 66ms/step - loss: 0.0925 - acc: 0.9716\n",
      "Epoch 31/100\n",
      "244/244 [==============================] - 16s 66ms/step - loss: 0.0895 - acc: 0.9720\n",
      "Epoch 32/100\n",
      "244/244 [==============================] - 16s 65ms/step - loss: 0.0866 - acc: 0.9738\n",
      "Epoch 33/100\n",
      "244/244 [==============================] - 16s 66ms/step - loss: 0.0831 - acc: 0.9754\n",
      "Epoch 34/100\n",
      "244/244 [==============================] - 16s 65ms/step - loss: 0.0801 - acc: 0.9772\n",
      "Epoch 35/100\n",
      "244/244 [==============================] - 16s 65ms/step - loss: 0.0772 - acc: 0.9779\n",
      "Epoch 36/100\n",
      "244/244 [==============================] - 16s 66ms/step - loss: 0.0746 - acc: 0.9801\n",
      "Epoch 37/100\n",
      "244/244 [==============================] - 16s 66ms/step - loss: 0.0730 - acc: 0.9801\n",
      "Epoch 38/100\n",
      "244/244 [==============================] - 16s 65ms/step - loss: 0.0700 - acc: 0.9809\n",
      "Epoch 39/100\n",
      "244/244 [==============================] - 16s 66ms/step - loss: 0.0680 - acc: 0.9813\n",
      "Epoch 40/100\n",
      "244/244 [==============================] - 16s 65ms/step - loss: 0.0658 - acc: 0.9825\n",
      "Epoch 41/100\n",
      "244/244 [==============================] - 16s 65ms/step - loss: 0.0630 - acc: 0.9837\n",
      "Epoch 42/100\n",
      "244/244 [==============================] - 16s 66ms/step - loss: 0.0617 - acc: 0.9841\n",
      "Epoch 43/100\n",
      "244/244 [==============================] - 16s 65ms/step - loss: 0.0596 - acc: 0.9850\n",
      "Epoch 44/100\n",
      "244/244 [==============================] - 16s 65ms/step - loss: 0.0572 - acc: 0.9849\n",
      "Epoch 45/100\n",
      "244/244 [==============================] - 16s 65ms/step - loss: 0.0561 - acc: 0.9860\n",
      "Epoch 46/100\n",
      "244/244 [==============================] - 16s 65ms/step - loss: 0.0546 - acc: 0.9866\n",
      "Epoch 47/100\n",
      "244/244 [==============================] - 16s 64ms/step - loss: 0.0523 - acc: 0.9874\n",
      "Epoch 48/100\n",
      "244/244 [==============================] - 16s 65ms/step - loss: 0.0509 - acc: 0.9880\n",
      "Epoch 49/100\n",
      "244/244 [==============================] - 16s 65ms/step - loss: 0.0497 - acc: 0.9891\n",
      "Epoch 50/100\n",
      "244/244 [==============================] - 16s 65ms/step - loss: 0.0485 - acc: 0.9885\n",
      "Epoch 51/100\n",
      "244/244 [==============================] - 16s 66ms/step - loss: 0.0468 - acc: 0.9905\n",
      "Epoch 52/100\n",
      "244/244 [==============================] - 16s 65ms/step - loss: 0.0453 - acc: 0.9898\n",
      "Epoch 53/100\n",
      "244/244 [==============================] - 16s 65ms/step - loss: 0.0447 - acc: 0.9900\n",
      "Epoch 54/100\n",
      "244/244 [==============================] - 16s 65ms/step - loss: 0.0431 - acc: 0.9901\n",
      "Epoch 55/100\n",
      "244/244 [==============================] - 16s 66ms/step - loss: 0.0421 - acc: 0.9912\n",
      "Epoch 56/100\n",
      "244/244 [==============================] - 16s 65ms/step - loss: 0.0409 - acc: 0.9905\n",
      "Epoch 57/100\n",
      "244/244 [==============================] - 16s 66ms/step - loss: 0.0397 - acc: 0.9919\n",
      "Epoch 58/100\n",
      "244/244 [==============================] - 16s 65ms/step - loss: 0.0386 - acc: 0.9921\n",
      "Epoch 59/100\n",
      "244/244 [==============================] - 16s 65ms/step - loss: 0.0376 - acc: 0.9922\n",
      "Epoch 60/100\n",
      "244/244 [==============================] - 16s 65ms/step - loss: 0.0366 - acc: 0.9919\n",
      "Epoch 61/100\n",
      "244/244 [==============================] - 16s 66ms/step - loss: 0.0356 - acc: 0.9933\n",
      "Epoch 62/100\n",
      "244/244 [==============================] - 16s 66ms/step - loss: 0.0349 - acc: 0.9939\n",
      "Epoch 63/100\n",
      "244/244 [==============================] - 16s 65ms/step - loss: 0.0336 - acc: 0.9937\n",
      "Epoch 64/100\n",
      "244/244 [==============================] - 16s 65ms/step - loss: 0.0331 - acc: 0.9937\n",
      "Epoch 65/100\n",
      "244/244 [==============================] - 16s 65ms/step - loss: 0.0317 - acc: 0.9942\n",
      "Epoch 66/100\n",
      "244/244 [==============================] - 16s 65ms/step - loss: 0.0315 - acc: 0.9940\n",
      "Epoch 67/100\n",
      "244/244 [==============================] - 16s 64ms/step - loss: 0.0303 - acc: 0.9940\n",
      "Epoch 68/100\n",
      "244/244 [==============================] - 16s 65ms/step - loss: 0.0294 - acc: 0.9951\n",
      "Epoch 69/100\n",
      "244/244 [==============================] - 16s 65ms/step - loss: 0.0284 - acc: 0.9959\n",
      "Epoch 70/100\n",
      "244/244 [==============================] - 16s 64ms/step - loss: 0.0279 - acc: 0.9960\n",
      "Epoch 71/100\n",
      "244/244 [==============================] - 16s 65ms/step - loss: 0.0274 - acc: 0.9958\n",
      "Epoch 72/100\n",
      "244/244 [==============================] - 10s 39ms/step - loss: 0.0268 - acc: 0.9960\n",
      "Epoch 73/100\n",
      "244/244 [==============================] - 8s 35ms/step - loss: 0.0257 - acc: 0.9965\n",
      "Epoch 74/100\n",
      "244/244 [==============================] - 8s 34ms/step - loss: 0.0253 - acc: 0.9965\n",
      "Epoch 75/100\n",
      "244/244 [==============================] - 9s 35ms/step - loss: 0.0248 - acc: 0.9976\n",
      "Epoch 76/100\n",
      "244/244 [==============================] - 8s 34ms/step - loss: 0.0240 - acc: 0.9968\n",
      "Epoch 77/100\n",
      "244/244 [==============================] - 8s 34ms/step - loss: 0.0234 - acc: 0.9971\n",
      "Epoch 78/100\n",
      "244/244 [==============================] - 8s 34ms/step - loss: 0.0231 - acc: 0.9971\n",
      "Epoch 79/100\n",
      "244/244 [==============================] - 8s 35ms/step - loss: 0.0228 - acc: 0.9975\n",
      "Epoch 80/100\n",
      "244/244 [==============================] - 8s 34ms/step - loss: 0.0217 - acc: 0.9980\n",
      "Epoch 81/100\n",
      "244/244 [==============================] - 8s 34ms/step - loss: 0.0212 - acc: 0.9972\n",
      "Epoch 82/100\n",
      "244/244 [==============================] - 8s 34ms/step - loss: 0.0208 - acc: 0.9982\n",
      "Epoch 83/100\n",
      "244/244 [==============================] - 8s 34ms/step - loss: 0.0199 - acc: 0.9983\n",
      "Epoch 84/100\n",
      "244/244 [==============================] - 8s 34ms/step - loss: 0.0200 - acc: 0.9983\n",
      "Epoch 85/100\n",
      "244/244 [==============================] - 8s 34ms/step - loss: 0.0194 - acc: 0.9982\n",
      "Epoch 86/100\n",
      "244/244 [==============================] - 8s 34ms/step - loss: 0.0188 - acc: 0.9986\n",
      "Epoch 87/100\n",
      "244/244 [==============================] - 8s 34ms/step - loss: 0.0184 - acc: 0.9983\n",
      "Epoch 88/100\n",
      "244/244 [==============================] - 8s 34ms/step - loss: 0.0182 - acc: 0.9988\n",
      "Epoch 89/100\n",
      "244/244 [==============================] - 8s 34ms/step - loss: 0.0175 - acc: 0.9987\n",
      "Epoch 90/100\n",
      "244/244 [==============================] - 9s 36ms/step - loss: 0.0169 - acc: 0.9988\n",
      "Epoch 91/100\n",
      "244/244 [==============================] - 9s 36ms/step - loss: 0.0166 - acc: 0.9994\n",
      "Epoch 92/100\n",
      "244/244 [==============================] - 15s 60ms/step - loss: 0.0165 - acc: 0.9987\n",
      "Epoch 93/100\n",
      "244/244 [==============================] - 19s 79ms/step - loss: 0.0159 - acc: 0.9987\n",
      "Epoch 94/100\n",
      "244/244 [==============================] - 18s 76ms/step - loss: 0.0154 - acc: 0.9992\n",
      "Epoch 95/100\n",
      "244/244 [==============================] - 19s 78ms/step - loss: 0.0153 - acc: 0.9991\n",
      "Epoch 96/100\n",
      "244/244 [==============================] - 19s 76ms/step - loss: 0.0150 - acc: 0.9992\n",
      "Epoch 97/100\n",
      "244/244 [==============================] - 19s 77ms/step - loss: 0.0144 - acc: 0.9992\n",
      "Epoch 98/100\n",
      "244/244 [==============================] - 19s 77ms/step - loss: 0.0142 - acc: 0.9995\n",
      "Epoch 99/100\n",
      "244/244 [==============================] - 18s 76ms/step - loss: 0.0139 - acc: 0.9992\n",
      "Epoch 100/100\n",
      "244/244 [==============================] - 19s 78ms/step - loss: 0.0134 - acc: 0.9991\n",
      "########################################\n",
      "loss: 0.013430195833330959, acc: 0.9991022188021034\n",
      "########################################\n"
     ]
    }
   ],
   "source": [
    "@inputlayer\n",
    "@outputdense('sigmoid')\n",
    "def double_stranded_model_dnaconv(inputs, inp, oup, params):\n",
    "    \"\"\" keras model for scanning both DNA strands.\n",
    "\n",
    "    A more elegant way of scanning both strands for motif occurrences\n",
    "    is achieved by the DnaConv2D layer wrapper, which internally\n",
    "    performs the convolution operation with the normal kernel weights\n",
    "    and the reverse complemented weights.\n",
    "    \"\"\"\n",
    "    with inputs.use('dna') as layer:\n",
    "        # the name in inputs.use() should be the same as the dataset name.\n",
    "        layer = DnaConv2D(Conv2D(params[0], (params[1], 1),\n",
    "                                 activation=params[2]))(layer)\n",
    "    output = GlobalAveragePooling2D(name='motif')(layer)\n",
    "    return inputs, output\n",
    "\n",
    "\n",
    "# create a new model object\n",
    "model = Janggu.create(template=double_stranded_model_dnaconv,\n",
    "                      modelparams=(30, 21, 'relu'),\n",
    "                      inputs=DNA,\n",
    "                      outputs=ReduceDim(LABELS))\n",
    "\n",
    "model.compile(optimizer='adadelta', loss='binary_crossentropy',\n",
    "              metrics=['acc'])\n",
    "\n",
    "hist = model.fit(DNA, ReduceDim(LABELS), epochs=epochs)\n",
    "\n",
    "print('#' * 40)\n",
    "print('loss: {}, acc: {}'.format(hist.history['loss'][-1],\n",
    "                                 hist.history['acc'][-1]))\n",
    "print('#' * 40)"
   ]
  },
  {
   "cell_type": "code",
   "execution_count": 10,
   "metadata": {},
   "outputs": [
    {
     "name": "stdout",
     "output_type": "stream",
     "text": [
      "Oct4 predictions scores should be greater than Mafk scores:\n",
      "Prediction score examples for Oct4\n",
      "0.: [[[[0.99954879]]]]\n",
      "1.: [[[[0.8408764]]]]\n",
      "2.: [[[[0.99534822]]]]\n",
      "3.: [[[[0.98228812]]]]\n",
      "Prediction score examples for Mafk\n",
      "1.: [[[[0.28670049]]]]\n",
      "2.: [[[[0.000442]]]]\n",
      "3.: [[[[0.00052086]]]]\n",
      "4.: [[[[3.81469727e-06]]]]\n"
     ]
    }
   ],
   "source": [
    "pred = model.predict(DNA_TEST)\n",
    "cov_pred = Cover.create_from_array('BindingProba', pred, LABELS_TEST.gindexer)\n",
    "\n",
    "print('Oct4 predictions scores should be greater than Mafk scores:')\n",
    "print('Prediction score examples for Oct4')\n",
    "for i in range(4):\n",
    "    print('{}.: {}'.format(i, cov_pred[i]))\n",
    "print('Prediction score examples for Mafk')\n",
    "for i in range(1, 5):\n",
    "    print('{}.: {}'.format(i, cov_pred[-i]))"
   ]
  },
  {
   "cell_type": "code",
   "execution_count": 12,
   "metadata": {},
   "outputs": [
    {
     "data": {
      "image/png": "[encoded data removed]",
      "text/plain": [
       "<Figure size 720x360 with 3 Axes>"
      ]
     },
     "execution_count": 12,
     "metadata": {},
     "output_type": "execute_result"
    },
    {
     "data": {
      "image/png": "[encoded data removed]",
      "text/plain": [
       "<Figure size 720x360 with 3 Axes>"
      ]
     },
     "metadata": {
      "needs_background": "light"
     },
     "output_type": "display_data"
    }
   ],
   "source": [
    "# Extract the 4th interval to perform input feature importance attribution\n",
    "# which represents an Oct4 bound region\n",
    "gi = DNA.gindexer[3]\n",
    "chrom = gi.chrom\n",
    "start = gi.start\n",
    "end = gi.end\n",
    "attr_oct = input_attribution(model, DNA, chrom=chrom, start=start, end=end)\n",
    "\n",
    "# visualize the important sequence features\n",
    "plotGenomeTrack(SeqTrack(attr_oct[0]), chrom, start, end)"
   ]
  },
  {
   "cell_type": "code",
   "execution_count": 13,
   "metadata": {},
   "outputs": [
    {
     "data": {
      "image/png": "[encoded data removed]",
      "text/plain": [
       "<Figure size 720x360 with 3 Axes>"
      ]
     },
     "execution_count": 13,
     "metadata": {},
     "output_type": "execute_result"
    },
    {
     "data": {
      "image/png": "[encoded data removed]",
      "text/plain": [
       "<Figure size 720x360 with 3 Axes>"
      ]
     },
     "metadata": {
      "needs_background": "light"
     },
     "output_type": "display_data"
    }
   ],
   "source": [
    "# For the comparison, extract an interval\n",
    "# representing a Mafk bound region and visualize the\n",
    "# important features.\n",
    "gi = DNA.gindexer[7796]\n",
    "chrom = gi.chrom\n",
    "start = gi.start\n",
    "end = gi.end\n",
    "attr_mafk = input_attribution(model, DNA, chrom=chrom, start=start, end=end)\n",
    "\n",
    "plotGenomeTrack(SeqTrack(attr_mafk[0]), chrom, start, end)"
   ]
  },
  {
   "cell_type": "code",
   "execution_count": 14,
   "metadata": {},
   "outputs": [],
   "source": [
    "# output directory for the variant effect prediction\n",
    "vcfoutput = os.path.join(os.environ['JANGGU_OUTPUT'], 'vcfoutput')\n",
    "os.makedirs(vcfoutput, exist_ok=True)\n",
    "\n",
    "# perform variant effect prediction using Bioseq object and\n",
    "# a VCF file\n",
    "scoresfile, variantsfile = model.predict_variant_effect(DNA,\n",
    "                                                        VCFFILE,\n",
    "                                                        conditions=['feature'],\n",
    "                                                        output_folder=vcfoutput)\n",
    "\n",
    "scoresfile = os.path.join(vcfoutput, 'scores.hdf5')\n",
    "variantsfile = os.path.join(vcfoutput, 'snps.bed.gz')\n",
    "\n",
    "# parse the variant effect predictions (difference between\n",
    "# reference and alternative variant) into a Cover object\n",
    "# for the purpose of visualization\n",
    "f = h5py.File(scoresfile, 'r')\n",
    "\n",
    "gindexer = GenomicIndexer.create_from_file(variantsfile, None, None)\n",
    "\n",
    "snpcov = Cover.create_from_array('snps', f['diffscore'],\n",
    "                                 gindexer,\n",
    "                                 store_whole_genome=True,\n",
    "                                 padding_value=np.nan)\n",
    "snpcov = Cover.create_from_array('snps', f['diffscore'],\n",
    "                                 gindexer,\n",
    "                                 store_whole_genome=False,\n",
    "                                 padding_value=np.nan)"
   ]
  },
  {
   "cell_type": "code",
   "execution_count": 15,
   "metadata": {},
   "outputs": [
    {
     "data": {
      "image/png": "[encoded data removed]",
      "text/plain": [
       "<Figure size 720x360 with 5 Axes>"
      ]
     },
     "execution_count": 15,
     "metadata": {},
     "output_type": "execute_result"
    },
    {
     "data": {
      "image/png": "[encoded data removed]",
      "text/plain": [
       "<Figure size 720x360 with 5 Axes>"
      ]
     },
     "metadata": {
      "needs_background": "light"
     },
     "output_type": "display_data"
    }
   ],
   "source": [
    "gi = DNA.gindexer[3]\n",
    "chrom = gi.chrom\n",
    "start = gi.start\n",
    "end = gi.end\n",
    "\n",
    "plotGenomeTrack([LineTrack(snpcov,\n",
    "                           linestyle=\"None\"), SeqTrack(attr_oct[0])],\n",
    "                chrom, start, end)"
   ]
  }
 ],
 "metadata": {
  "kernelspec": {
   "display_name": "Python 3",
   "language": "python",
   "name": "python3"
  },
  "language_info": {
   "codemirror_mode": {
    "name": "ipython",
    "version": 3
   },
   "file_extension": ".py",
   "mimetype": "text/x-python",
   "name": "python",
   "nbconvert_exporter": "python",
   "pygments_lexer": "ipython3",
   "version": "3.6.8"
  }
 },
 "nbformat": 4,
 "nbformat_minor": 2
}
