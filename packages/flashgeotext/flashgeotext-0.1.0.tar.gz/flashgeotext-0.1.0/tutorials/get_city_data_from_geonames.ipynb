{
 "cells": [
  {
   "cell_type": "markdown",
   "metadata": {},
   "source": [
    "# flashgeotext\n",
    "\n",
    "Get city data from geonames"
   ]
  },
  {
   "cell_type": "code",
   "execution_count": 2,
   "metadata": {},
   "outputs": [],
   "source": [
    "# http://download.geonames.org/export/dump/cities15000.zip"
   ]
  },
  {
   "cell_type": "code",
   "execution_count": 13,
   "metadata": {},
   "outputs": [],
   "source": [
    "import io\n",
    "from fuzzywuzzy import fuzz\n",
    "import json"
   ]
  },
  {
   "cell_type": "code",
   "execution_count": 14,
   "metadata": {},
   "outputs": [],
   "source": [
    "usecols=[1,3]\n",
    "comment=\"#\"\n",
    "sep=\"\\t\"\n",
    "\n",
    "with io.open(\"cities15000.txt\", \"r\", encoding=\"utf-8\") as f:\n",
    "\n",
    "    # filter comment lines\n",
    "    lines = (line for line in f if not line.startswith(comment))\n",
    "\n",
    "    data = dict()\n",
    "    for line in lines:\n",
    "        columns = line.split(sep)\n",
    "        key = columns[usecols[0]]\n",
    "        value = columns[usecols[1]].rstrip('\\n').split(\",\")\n",
    "        # use % fuzzy ratio to filter a little\n",
    "        value = [word for word in value if fuzz.ratio(key, word) > 70] + [key] \n",
    "        data[key] = value\n"
   ]
  },
  {
   "cell_type": "code",
   "execution_count": null,
   "metadata": {},
   "outputs": [],
   "source": [
    "with open(\"cities.json\", \"w\", encoding=\"utf-8\") as f:\n",
    "    json.dump(data, f)"
   ]
  }
 ],
 "metadata": {
  "kernelspec": {
   "display_name": "Python 3",
   "language": "python",
   "name": "python3"
  },
  "language_info": {
   "codemirror_mode": {
    "name": "ipython",
    "version": 3
   },
   "file_extension": ".py",
   "mimetype": "text/x-python",
   "name": "python",
   "nbconvert_exporter": "python",
   "pygments_lexer": "ipython3",
   "version": "3.7.5"
  }
 },
 "nbformat": 4,
 "nbformat_minor": 4
}
