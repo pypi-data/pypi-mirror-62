{
 "cells": [
  {
   "cell_type": "code",
   "execution_count": null,
   "metadata": {},
   "outputs": [],
   "source": [
    "from flashgeotext.geotext import GeoText\n",
    "from flashgeotext.lookup import LookupData, LookupDataPool\n",
    "import requests\n",
    "import bs4\n",
    "import json"
   ]
  },
  {
   "cell_type": "code",
   "execution_count": null,
   "metadata": {},
   "outputs": [],
   "source": [
    "wiki_url = \"https://de.wikipedia.org/wiki/Verwaltungsgliederung_Berlins\""
   ]
  },
  {
   "cell_type": "code",
   "execution_count": null,
   "metadata": {},
   "outputs": [],
   "source": [
    "response = requests.get(wiki_url)\n",
    "\n",
    "soup = bs4.BeautifulSoup(response.text, \"html5lib\")"
   ]
  },
  {
   "cell_type": "code",
   "execution_count": null,
   "metadata": {},
   "outputs": [],
   "source": [
    "data = {}\n",
    "table_bodies = (table_body for table_body in soup.find_all(\"table\", class_=\"wikitable\"))\n",
    "\n",
    "for table_body in table_bodies:\n",
    "    rows = table_body.find_all(\"tr\")\n",
    "    for row in rows:\n",
    "        cols = row.find_all(\"td\")\n",
    "        if cols and len(cols[0].text) > 3:\n",
    "            if not cols[2].text.strip() in data:\n",
    "                data[cols[2].text.strip()] = [cols[1].text.strip()]\n",
    "            else:\n",
    "                data[cols[2].text.strip()] = data[cols[2].text.strip()] + [\n",
    "                    cols[1].text.strip()\n",
    "                ]"
   ]
  },
  {
   "cell_type": "code",
   "execution_count": null,
   "metadata": {},
   "outputs": [],
   "source": [
    "# for now key has to be in value for LookupData\n",
    "for k,v in data.items():\n",
    "    if k not in v:\n",
    "        v.append(k)"
   ]
  },
  {
   "cell_type": "code",
   "execution_count": null,
   "metadata": {},
   "outputs": [],
   "source": [
    "with open(\"example-data.json\", \"w\", encoding=\"utf8\") as f:\n",
    "    json.dump(data, f, ensure_ascii=False)"
   ]
  },
  {
   "cell_type": "code",
   "execution_count": null,
   "metadata": {},
   "outputs": [],
   "source": [
    "data_boroughs = {}\n",
    "\n",
    "# for now key has to be in value for LookupData\n",
    "for k,v in data.items():\n",
    "    for borough in v:\n",
    "        data_boroughs[borough] = [borough]"
   ]
  },
  {
   "cell_type": "code",
   "execution_count": null,
   "metadata": {},
   "outputs": [],
   "source": [
    "with open(\"example-data-berlin-boroughs.json\", \"w\", encoding=\"utf8\") as f:\n",
    "    json.dump(data_boroughs, f, ensure_ascii=False)"
   ]
  }
 ],
 "metadata": {
  "kernelspec": {
   "display_name": "Python 3",
   "language": "python",
   "name": "python3"
  },
  "language_info": {
   "codemirror_mode": {
    "name": "ipython",
    "version": 3
   },
   "file_extension": ".py",
   "mimetype": "text/x-python",
   "name": "python",
   "nbconvert_exporter": "python",
   "pygments_lexer": "ipython3",
   "version": "3.7.5"
  }
 },
 "nbformat": 4,
 "nbformat_minor": 4
}
