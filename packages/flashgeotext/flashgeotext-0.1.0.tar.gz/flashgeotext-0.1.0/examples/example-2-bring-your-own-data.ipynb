{
 "cells": [
  {
   "cell_type": "markdown",
   "metadata": {},
   "source": [
    "# flashgeotext\n",
    "\n",
    "Bring your own data to the party"
   ]
  },
  {
   "cell_type": "code",
   "execution_count": 37,
   "metadata": {},
   "outputs": [],
   "source": [
    "from flashgeotext.geotext import GeoText\n",
    "from flashgeotext.lookup import LookupData, LookupDataPool\n",
    "from flashgeotext.lookup import load_data_from_file\n",
    "import json"
   ]
  },
  {
   "cell_type": "code",
   "execution_count": 38,
   "metadata": {},
   "outputs": [],
   "source": [
    "data_districts = load_data_from_file(\"./data/example-data-berlin-districts.json\")\n",
    "data_boroughs = load_data_from_file(\"./data/example-data-berlin-boroughs.json\")"
   ]
  },
  {
   "cell_type": "code",
   "execution_count": 39,
   "metadata": {},
   "outputs": [],
   "source": [
    "lookup_districts = LookupData(name=\"berlin_districts\", data=data_districts)\n",
    "lookup_boroughs = LookupData(name=\"berlin_boroughs\", data=data_boroughs)"
   ]
  },
  {
   "cell_type": "code",
   "execution_count": 40,
   "metadata": {},
   "outputs": [
    {
     "data": {
      "text/plain": [
       "<flashgeotext.lookup.LookupValidation at 0x10ae65790>"
      ]
     },
     "execution_count": 40,
     "metadata": {},
     "output_type": "execute_result"
    }
   ],
   "source": [
    "lookup_districts.validate()"
   ]
  },
  {
   "cell_type": "code",
   "execution_count": 41,
   "metadata": {},
   "outputs": [
    {
     "name": "stderr",
     "output_type": "stream",
     "text": [
      "2020-02-24 11:10:51.340 | DEBUG    | flashgeotext.lookup:add:163 - berlin_districts added to pool\n"
     ]
    }
   ],
   "source": [
    "geotext = GeoText(use_demo_data=False)\n",
    "geotext.add(lookup_districts)"
   ]
  },
  {
   "cell_type": "code",
   "execution_count": 42,
   "metadata": {},
   "outputs": [
    {
     "data": {
      "text/plain": [
       "1"
      ]
     },
     "execution_count": 42,
     "metadata": {},
     "output_type": "execute_result"
    }
   ],
   "source": [
    "len(geotext.pool)"
   ]
  },
  {
   "cell_type": "code",
   "execution_count": 43,
   "metadata": {},
   "outputs": [
    {
     "name": "stderr",
     "output_type": "stream",
     "text": [
      "2020-02-24 11:10:53.074 | DEBUG    | flashgeotext.lookup:add:163 - berlin_boroughs added to pool\n"
     ]
    }
   ],
   "source": [
    "geotext.add(lookup_boroughs)"
   ]
  },
  {
   "cell_type": "code",
   "execution_count": 44,
   "metadata": {},
   "outputs": [
    {
     "data": {
      "text/plain": [
       "2"
      ]
     },
     "execution_count": 44,
     "metadata": {},
     "output_type": "execute_result"
    }
   ],
   "source": [
    "len(geotext.pool)"
   ]
  },
  {
   "cell_type": "code",
   "execution_count": 9,
   "metadata": {},
   "outputs": [],
   "source": [
    "article = \"\"\"\n",
    "In Ost-Berlin wurden ab 1965 keine Ortsteile mehr ausgewiesen, \n",
    "bei der Bildung der neuen Stadtbezirke ab 1979 wurde auch keine Rücksicht auf die früheren Ortsteilgrenzen genommen. \n",
    "Erst nach der Einheit wurden die alten Ortsteile – angepasst an die geänderten Bezirksgrenzen – wieder eingerichtet, \n",
    "dabei kam es zu der besonderen Situation, dass es den Ortsteil Malchow zweifach gab – im Bezirk Hohenschönhausen ebenso wie im Bezirk Weißensee. \n",
    "Letzterer wurde dann 2001 in Stadtrandsiedlung Malchow umbenannt. \n",
    "In den 1920 festgelegten Ortsteilen spiegelte sich im Wesentlichen die im Mittelalter entstandene Siedlungsstruktur der Dörfer wider. \n",
    "Mehrere der Änderungen seit 2001 reagieren pragmatisch auf den massenhaften Bau neuer Wohnungen im Rahmen von Hochhaussiedlungen zwischen 1961 und 1989. \n",
    "Dies betrifft in West-Berlin neben dem Hansaviertel (1960) die Gropiusstadt und das Märkische Viertel. \n",
    "Die umfangreichere Neubautätigkeit in Ost-Berlin hatte dagegen schon seit den späten 1970er Jahren zu Bezirksneubildungen geführt \n",
    "(Marzahn, Hellersdorf, Hohenschönhausen). 2012 wurde Borsigwalde, vormals Ortslage in Wittenau, \n",
    "zu einem eigenständigen Ortsteil des Bezirks Reinickendorf erklärt und damit der 96. Ortsteil Berlins.\n",
    "\"\"\""
   ]
  },
  {
   "cell_type": "code",
   "execution_count": 10,
   "metadata": {},
   "outputs": [],
   "source": [
    "extract = geotext.extract(article, span_info=False)"
   ]
  },
  {
   "cell_type": "code",
   "execution_count": 11,
   "metadata": {},
   "outputs": [
    {
     "name": "stdout",
     "output_type": "stream",
     "text": [
      "{\n",
      "  \"berlin_districts\": {\n",
      "    \"Lichtenberg\": {\n",
      "      \"count\": 1\n",
      "    },\n",
      "    \"Pankow\": {\n",
      "      \"count\": 2\n",
      "    },\n",
      "    \"Mitte\": {\n",
      "      \"count\": 1\n",
      "    },\n",
      "    \"Neukölln\": {\n",
      "      \"count\": 1\n",
      "    },\n",
      "    \"Marzahn-Hellersdorf\": {\n",
      "      \"count\": 2\n",
      "    },\n",
      "    \"Reinickendorf\": {\n",
      "      \"count\": 3\n",
      "    }\n",
      "  },\n",
      "  \"berlin_boroughs\": {\n",
      "    \"Malchow\": {\n",
      "      \"count\": 1\n",
      "    },\n",
      "    \"Weißensee\": {\n",
      "      \"count\": 1\n",
      "    },\n",
      "    \"Stadtrandsiedlung Malchow\": {\n",
      "      \"count\": 1\n",
      "    },\n",
      "    \"Hansaviertel\": {\n",
      "      \"count\": 1\n",
      "    },\n",
      "    \"Gropiusstadt\": {\n",
      "      \"count\": 1\n",
      "    },\n",
      "    \"Marzahn\": {\n",
      "      \"count\": 1\n",
      "    },\n",
      "    \"Hellersdorf\": {\n",
      "      \"count\": 1\n",
      "    },\n",
      "    \"Borsigwalde\": {\n",
      "      \"count\": 1\n",
      "    },\n",
      "    \"Wittenau\": {\n",
      "      \"count\": 1\n",
      "    },\n",
      "    \"Reinickendorf\": {\n",
      "      \"count\": 1\n",
      "    }\n",
      "  }\n",
      "}\n"
     ]
    }
   ],
   "source": [
    "print(json.dumps(extract, indent=2,ensure_ascii=False))"
   ]
  },
  {
   "cell_type": "code",
   "execution_count": 12,
   "metadata": {},
   "outputs": [
    {
     "name": "stderr",
     "output_type": "stream",
     "text": [
      "2020-02-24 10:35:23.230 | DEBUG    | flashgeotext.lookup:remove:173 - berlin_districts removed from pool\n"
     ]
    }
   ],
   "source": [
    "geotext.remove(\"berlin_districts\")"
   ]
  },
  {
   "cell_type": "code",
   "execution_count": 13,
   "metadata": {},
   "outputs": [
    {
     "data": {
      "text/plain": [
       "1"
      ]
     },
     "execution_count": 13,
     "metadata": {},
     "output_type": "execute_result"
    }
   ],
   "source": [
    "len(geotext.pool)"
   ]
  },
  {
   "cell_type": "code",
   "execution_count": 14,
   "metadata": {},
   "outputs": [
    {
     "data": {
      "text/plain": [
       "{'berlin_boroughs': {'Malchow': {'count': 1},\n",
       "  'Weißensee': {'count': 1},\n",
       "  'Stadtrandsiedlung Malchow': {'count': 1},\n",
       "  'Hansaviertel': {'count': 1},\n",
       "  'Gropiusstadt': {'count': 1},\n",
       "  'Marzahn': {'count': 1},\n",
       "  'Hellersdorf': {'count': 1},\n",
       "  'Borsigwalde': {'count': 1},\n",
       "  'Wittenau': {'count': 1},\n",
       "  'Reinickendorf': {'count': 1}}}"
      ]
     },
     "execution_count": 14,
     "metadata": {},
     "output_type": "execute_result"
    }
   ],
   "source": [
    "geotext.extract(article, span_info=False)"
   ]
  }
 ],
 "metadata": {
  "kernelspec": {
   "display_name": "Python 3",
   "language": "python",
   "name": "python3"
  },
  "language_info": {
   "codemirror_mode": {
    "name": "ipython",
    "version": 3
   },
   "file_extension": ".py",
   "mimetype": "text/x-python",
   "name": "python",
   "nbconvert_exporter": "python",
   "pygments_lexer": "ipython3",
   "version": "3.7.5"
  }
 },
 "nbformat": 4,
 "nbformat_minor": 4
}
