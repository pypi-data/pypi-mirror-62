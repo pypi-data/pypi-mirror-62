{
 "cells": [
  {
   "cell_type": "markdown",
   "metadata": {},
   "source": [
    "# flashgeotext\n",
    "\n",
    "Get country data (+synonyms)"
   ]
  },
  {
   "cell_type": "code",
   "execution_count": null,
   "metadata": {},
   "outputs": [],
   "source": [
    "import pandas as pd\n",
    "from flashtext import KeywordProcessor\n",
    "import io\n",
    "from fuzzywuzzy import fuzz\n",
    "import requests\n",
    "import pycountry\n",
    "import bs4\n",
    "import requests\n",
    "import json"
   ]
  },
  {
   "cell_type": "code",
   "execution_count": null,
   "metadata": {},
   "outputs": [],
   "source": [
    "url = \"https://en.wikipedia.org/wiki/List_of_alternative_country_names\"\n",
    "\n",
    "response = requests.get(url)\n",
    "\n",
    "soup = bs4.BeautifulSoup(response.text, \"html5lib\")"
   ]
  },
  {
   "cell_type": "code",
   "execution_count": null,
   "metadata": {},
   "outputs": [],
   "source": [
    "table_bodies = (table_body for table_body in soup.find_all('tbody'))"
   ]
  },
  {
   "cell_type": "code",
   "execution_count": null,
   "metadata": {},
   "outputs": [],
   "source": [
    "data = {}\n",
    "for table_body in table_bodies:\n",
    "    rows = table_body.find_all('tr')\n",
    "    for row in rows:\n",
    "        cols = row.find_all('td')\n",
    "        if cols:\n",
    "            country_name = cols[0].find(\"a\").text\n",
    "            data[country_name] = [b.text for b in cols[1].find_all(\"b\")] + [country_name]\n",
    "            data[country_name] = [word for word in data[country_name] if fuzz.ratio(country_name, word) > 20]\n",
    "\n",
    "# weird geopolitical overtaking of geonames.org\n",
    "data[\"Taiwan\"] = [word for word in data[\"Taiwan\"] if \"China\" not in word]"
   ]
  },
  {
   "cell_type": "code",
   "execution_count": null,
   "metadata": {},
   "outputs": [],
   "source": [
    "with open(\"countries.json\", \"w\", encoding=\"utf8\") as file:\n",
    "    json.dump(data, file, ensure_ascii=False)"
   ]
  }
 ],
 "metadata": {
  "kernelspec": {
   "display_name": "Python 3",
   "language": "python",
   "name": "python3"
  },
  "language_info": {
   "codemirror_mode": {
    "name": "ipython",
    "version": 3
   },
   "file_extension": ".py",
   "mimetype": "text/x-python",
   "name": "python",
   "nbconvert_exporter": "python",
   "pygments_lexer": "ipython3",
   "version": "3.7.5"
  }
 },
 "nbformat": 4,
 "nbformat_minor": 4
}
