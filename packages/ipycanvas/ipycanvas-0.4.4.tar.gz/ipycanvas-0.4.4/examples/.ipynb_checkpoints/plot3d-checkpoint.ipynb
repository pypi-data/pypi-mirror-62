{
 "cells": [
  {
   "cell_type": "code",
   "execution_count": null,
   "metadata": {},
   "outputs": [],
   "source": [
    "from math import pi\n",
    "from time import sleep\n",
    "\n",
    "import numpy as np\n",
    "\n",
    "from ipycanvas import Canvas, hold_canvas\n",
    "\n",
    "from simple_3d_engine import Camera"
   ]
  },
  {
   "cell_type": "code",
   "execution_count": null,
   "metadata": {},
   "outputs": [],
   "source": [
    "size = (500, 500)\n",
    "\n",
    "camera = Camera(size[0] / size[1])"
   ]
  },
  {
   "cell_type": "code",
   "execution_count": null,
   "metadata": {},
   "outputs": [],
   "source": [
    "camera.project(0., 0., 0)"
   ]
  },
  {
   "cell_type": "code",
   "execution_count": null,
   "metadata": {},
   "outputs": [],
   "source": [
    "# n = 200\n",
    "\n",
    "# x = np.random.rand(n) - 0.5\n",
    "# y = np.random.rand(n) - 0.5\n",
    "# z = np.random.rand(n) - 0.5\n",
    "\n",
    "n = 9\n",
    "\n",
    "x = np.array([0, 1, 0, 0, 1, 0, 1, 1, 0.5]) - 0.5\n",
    "y = np.array([0, 0, 1, 0, 1, 1, 0, 1, 0.5]) - 0.5\n",
    "z = np.array([0, 0, 0, 1, 0, 1, 1, 1, 0.5]) - 0.5"
   ]
  },
  {
   "cell_type": "code",
   "execution_count": null,
   "metadata": {},
   "outputs": [],
   "source": [
    "canvas = Canvas(size=size, layout={'border': '1px solid grey'})\n",
    "canvas"
   ]
  },
  {
   "cell_type": "code",
   "execution_count": null,
   "metadata": {
    "scrolled": false
   },
   "outputs": [],
   "source": [
    "while(True):\n",
    "    sleep(0.03)\n",
    "    camera.move(3, 3)\n",
    "\n",
    "    with hold_canvas(canvas):\n",
    "        canvas.clear()\n",
    "\n",
    "        for i in range(n):\n",
    "            projected = camera.project(x[i], y[i], z[i])\n",
    "\n",
    "            px = projected[0] * size[0]\n",
    "            py = projected[1] * size[1]\n",
    "\n",
    "            canvas.fill_arc(px, py, 2, 0, 2*pi)"
   ]
  },
  {
   "cell_type": "code",
   "execution_count": null,
   "metadata": {},
   "outputs": [],
   "source": [
    "camera.project(0., 0., 0.)"
   ]
  },
  {
   "cell_type": "code",
   "execution_count": null,
   "metadata": {},
   "outputs": [],
   "source": [
    "1.73 / 5"
   ]
  },
  {
   "cell_type": "code",
   "execution_count": null,
   "metadata": {},
   "outputs": [],
   "source": [
    "xs"
   ]
  },
  {
   "cell_type": "code",
   "execution_count": null,
   "metadata": {},
   "outputs": [],
   "source": [
    "ys"
   ]
  },
  {
   "cell_type": "code",
   "execution_count": null,
   "metadata": {},
   "outputs": [],
   "source": []
  },
  {
   "cell_type": "code",
   "execution_count": null,
   "metadata": {},
   "outputs": [],
   "source": [
    "import matplotlib.pyplot as plt\n",
    "from mpl_toolkits.mplot3d import Axes3D, proj3d\n",
    "import numpy as np\n",
    "from ipycanvas import MultiCanvas, hold_canvas\n",
    "from ipywidgets import FloatSlider, Output\n",
    "from math import pi"
   ]
  },
  {
   "cell_type": "code",
   "execution_count": null,
   "metadata": {},
   "outputs": [],
   "source": [
    "out = Output(layout={'border': '1px solid black'})"
   ]
  },
  {
   "cell_type": "code",
   "execution_count": null,
   "metadata": {},
   "outputs": [],
   "source": [
    "class Plot3d(MultiCanvas):\n",
    "    def __init__(self):\n",
    "        super(Plot3d, self).__init__(2, size=(500, 500))\n",
    "        \n",
    "        self.width = 500\n",
    "        self.height = 500\n",
    "        \n",
    "        plt.ioff()\n",
    "        fig = plt.figure()\n",
    "        self.ax = Axes3D(fig)\n",
    "\n",
    "        self.dragging = False\n",
    "        self.n = 200\n",
    "        self.x = np.random.rand(self.n)\n",
    "        self.y = np.random.rand(self.n)\n",
    "        self.z = np.random.rand(self.n)\n",
    "        \n",
    "        self.zoom = 4\n",
    "        self.dx = 0\n",
    "        self.dy = 0\n",
    "        self.ax.view_init(elev=self.dx, azim=self.dy)\n",
    "        self.x2, self.y2, _ = proj3d.proj_transform(self.x, self.y, self.z, self.ax.get_proj())\n",
    "        self.draw()\n",
    "            \n",
    "        self[1].on_mouse_down(self.mouse_down_handler)\n",
    "        self[1].on_mouse_move(self.mouse_move_handler)\n",
    "        self[1].on_mouse_up(self.mouse_up_handler)\n",
    "        self[1].on_mouse_out(self.mouse_out_handler)\n",
    "\n",
    "    @out.capture()\n",
    "    def draw(self):\n",
    "        x = self.x2 * self.width * self.zoom + self.width / 2\n",
    "        y = self.y2 * self.width * self.zoom + self.height / 2\n",
    "        with hold_canvas(self):\n",
    "            self.clear()\n",
    "            self[1].save()\n",
    "            for i in range(self.n):\n",
    "                self[1].fill_arc(x[i], y[i], self.zoom, 0, 2*pi)\n",
    "                self[1].stroke_arc(x[i], y[i], self.zoom, 0, 2*pi)\n",
    "            self[1].restore()\n",
    "            \n",
    "    def mouse_down_handler(self, pixel_x, pixel_y):\n",
    "        self.dragging = True\n",
    "        self.x_mouse = pixel_x\n",
    "        self.y_mouse = pixel_y\n",
    "        \n",
    "    def mouse_move_handler(self, pixel_x, pixel_y):\n",
    "        if self.dragging:\n",
    "            self.dx_new = self.dx + pixel_x - self.x_mouse\n",
    "            self.dy_new = self.dy + pixel_y - self.y_mouse\n",
    "            self.ax.view_init(elev=self.dy_new, azim=self.dx_new)\n",
    "            self.x2, self.y2, _ = proj3d.proj_transform(self.x, self.y, self.z, self.ax.get_proj())\n",
    "            self.draw()\n",
    "    \n",
    "    def mouse_up_handler(self, pixel_x, pixel_y):\n",
    "        if self.dragging:\n",
    "            self.dragging = False\n",
    "            self.dx = self.dx_new\n",
    "            self.dy = self.dy_new\n",
    "    \n",
    "    def mouse_out_handler(self, pixel_x, pixel_y):\n",
    "        if self.dragging:\n",
    "            self.dragging = False\n",
    "            self.dx = self.dx_new\n",
    "            self.dy = self.dy_new"
   ]
  },
  {
   "cell_type": "code",
   "execution_count": null,
   "metadata": {
    "scrolled": false
   },
   "outputs": [],
   "source": [
    "p = Plot3d()\n",
    "p"
   ]
  },
  {
   "cell_type": "code",
   "execution_count": null,
   "metadata": {},
   "outputs": [],
   "source": [
    "slider = FloatSlider(description='Zoom:', value=p.zoom, min=1, max=10)\n",
    "\n",
    "def on_slider_change(change):\n",
    "    p.zoom = slider.value\n",
    "    p.draw()\n",
    "\n",
    "slider.observe(on_slider_change, 'value')\n",
    "slider"
   ]
  },
  {
   "cell_type": "markdown",
   "metadata": {},
   "source": [
    "## Drag the figure with the mouse to rotate, use the slider to zoom"
   ]
  },
  {
   "cell_type": "code",
   "execution_count": null,
   "metadata": {},
   "outputs": [],
   "source": [
    "out"
   ]
  }
 ],
 "metadata": {
  "kernelspec": {
   "display_name": "Python 3",
   "language": "python",
   "name": "python3"
  },
  "language_info": {
   "codemirror_mode": {
    "name": "ipython",
    "version": 3
   },
   "file_extension": ".py",
   "mimetype": "text/x-python",
   "name": "python",
   "nbconvert_exporter": "python",
   "pygments_lexer": "ipython3",
   "version": "3.8.1"
  }
 },
 "nbformat": 4,
 "nbformat_minor": 2
}
