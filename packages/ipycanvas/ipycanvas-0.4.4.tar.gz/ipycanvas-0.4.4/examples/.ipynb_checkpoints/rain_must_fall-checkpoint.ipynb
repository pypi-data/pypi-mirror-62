{
 "cells": [
  {
   "cell_type": "markdown",
   "metadata": {},
   "source": [
    "# Rain particle system "
   ]
  },
  {
   "cell_type": "code",
   "execution_count": null,
   "metadata": {},
   "outputs": [],
   "source": [
    "import random\n",
    "import time\n",
    "\n",
    "from ipycanvas import Canvas, hold_canvas"
   ]
  },
  {
   "cell_type": "code",
   "execution_count": null,
   "metadata": {},
   "outputs": [],
   "source": [
    "canvas = Canvas(width=800, height=600)"
   ]
  },
  {
   "cell_type": "code",
   "execution_count": null,
   "metadata": {},
   "outputs": [],
   "source": [
    "y_ground_min = 400"
   ]
  },
  {
   "cell_type": "code",
   "execution_count": null,
   "metadata": {},
   "outputs": [],
   "source": [
    "class WaterDrop():\n",
    "\n",
    "    def __init__(self):\n",
    "        \"\"\"Create a random water drop.\"\"\"\n",
    "        self.x = random.randint(0, 800)\n",
    "        self.y = 0\n",
    "\n",
    "        # Where the water drop will fall on the ground.\n",
    "        self.y_max = random.randint(y_ground_min + 10, 590)\n",
    "\n",
    "        # The closer it is to the camera, the faster the water drop is falling.\n",
    "        self.speed = self.y_max / 3\n",
    "\n",
    "        self.length_x = 2\n",
    "        self.length_y = 7\n",
    "        \n",
    "        self.dropped = False\n",
    "\n",
    "    def update(self, elapsed_time):\n",
    "        \"\"\"Update the water drop position, given the elapsed time since the last update.\"\"\"\n",
    "        if not self.dropped:\n",
    "            self.y += self.speed * elapsed_time\n",
    "\n",
    "            self.dropped = self.y >= self.y_max\n",
    "\n",
    "    def draw(self, canvas):\n",
    "        canvas.fill_rect(self.x, self.y, self.length_x, self.length_y)"
   ]
  },
  {
   "cell_type": "code",
   "execution_count": null,
   "metadata": {},
   "outputs": [],
   "source": [
    "n = 1_000\n",
    "\n",
    "water_drops = []"
   ]
  },
  {
   "cell_type": "code",
   "execution_count": null,
   "metadata": {},
   "outputs": [],
   "source": [
    "current_time = time.time()\n",
    "\n",
    "def update_canvas():\n",
    "    global current_time\n",
    "    global canvas\n",
    "    global water_drops\n",
    "\n",
    "    elapsed_time = time.time() - current_time\n",
    "\n",
    "    next_water_drops = []\n",
    "\n",
    "    # Create a new water drop at each time step.\n",
    "    water_drops.append(WaterDrop())\n",
    "\n",
    "    with hold_canvas(canvas):\n",
    "        canvas.clear()\n",
    "\n",
    "        # Draw the background\n",
    "        canvas.fill_style = '#cce1eb'\n",
    "        canvas.fill_rect(0, 0, 800, 600)\n",
    "\n",
    "        # Draw the floor\n",
    "        canvas.fill_style = '#f5f5f5'\n",
    "        canvas.fill_rect(0, y_ground_min, 800, 600 - y_ground_min)\n",
    "\n",
    "        # Draw water drops\n",
    "        canvas.fill_style = '#7cacd6'\n",
    "        for water_drop in water_drops:\n",
    "            water_drop.update(elapsed_time)\n",
    "            water_drop.draw(canvas)\n",
    "\n",
    "            # If the water did not yet fell on the ground, keep it.\n",
    "            if not water_drop.dropped:\n",
    "                next_water_drops.append(water_drop)\n",
    "\n",
    "    water_drops = next_water_drops\n",
    "\n",
    "    current_time = time.time()"
   ]
  },
  {
   "cell_type": "code",
   "execution_count": null,
   "metadata": {},
   "outputs": [],
   "source": [
    "canvas"
   ]
  },
  {
   "cell_type": "code",
   "execution_count": null,
   "metadata": {},
   "outputs": [],
   "source": [
    "for _ in range(1_000_000):\n",
    "    update_canvas()\n",
    "\n",
    "    time.sleep(0.03)"
   ]
  },
  {
   "cell_type": "code",
   "execution_count": null,
   "metadata": {},
   "outputs": [],
   "source": []
  }
 ],
 "metadata": {
  "kernelspec": {
   "display_name": "Python 3",
   "language": "python",
   "name": "python3"
  },
  "language_info": {
   "codemirror_mode": {
    "name": "ipython",
    "version": 3
   },
   "file_extension": ".py",
   "mimetype": "text/x-python",
   "name": "python",
   "nbconvert_exporter": "python",
   "pygments_lexer": "ipython3",
   "version": "3.8.1"
  }
 },
 "nbformat": 4,
 "nbformat_minor": 4
}
